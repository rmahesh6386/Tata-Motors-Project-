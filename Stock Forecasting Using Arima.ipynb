{
 "cells": [
  {
   "cell_type": "code",
   "execution_count": 6,
   "metadata": {
    "id": "zzslioq8xYCC"
   },
   "outputs": [],
   "source": [
    "import pandas as pd\n",
    "import numpy as np\n",
    "import matplotlib.pyplot as plt\n",
    "\n",
    "from sklearn import metrics\n",
    "\n",
    "plt.style.use(\"ggplot\")\n",
    "\n",
    "%matplotlib inline"
   ]
  },
  {
   "cell_type": "code",
   "execution_count": 7,
   "metadata": {
    "id": "8Esf5p3JxeiV"
   },
   "outputs": [],
   "source": [
    "plt.rcParams[\"figure.figsize\"] = (12, 6)"
   ]
  },
  {
   "cell_type": "code",
   "execution_count": 9,
   "metadata": {
    "id": "9ze_i7kzr-Gt"
   },
   "outputs": [],
   "source": [
    "# For reading stock data from yahoo\n",
    "from pandas_datareader import data as pdr\n",
    "import yfinance as yfin\n",
    "yfin.pdr_override()\n",
    "\n",
    "# For time stamps\n",
    "from datetime import datetime\n",
    "\n",
    "# For division\n",
    "from __future__ import division"
   ]
  },
  {
   "cell_type": "code",
   "execution_count": 10,
   "metadata": {
    "colab": {
     "base_uri": "https://localhost:8080/"
    },
    "id": "DirsdQMLsIom",
    "outputId": "0fe7c076-3274-477f-82b4-3cf24d1ba27e"
   },
   "outputs": [
    {
     "name": "stdout",
     "output_type": "stream",
     "text": [
      "[*********************100%***********************]  1 of 1 completed\n"
     ]
    }
   ],
   "source": [
    "#stock Company for analytics\n",
    "stock = ['TATAMOTORS.NS']\n",
    "data_source = 'yahoo' \n",
    "\n",
    "# set up Start and End time for data grab\n",
    "dt = datetime.now()\n",
    "end = datetime(dt.year,dt.month,dt.day)\n",
    "start = datetime(end.year-10,end.month,end.day)\n",
    "\n",
    "# Set DataFrame as the Stock Ticker\n",
    "df = pdr.get_data_yahoo(stock,start,end)"
   ]
  },
  {
   "cell_type": "code",
   "execution_count": 11,
   "metadata": {
    "colab": {
     "base_uri": "https://localhost:8080/",
     "height": 238
    },
    "id": "4pCFgMn4sWOU",
    "outputId": "604765c0-a5f6-4140-c850-1f854a6b9c80"
   },
   "outputs": [
    {
     "data": {
      "text/html": [
       "<div>\n",
       "<style scoped>\n",
       "    .dataframe tbody tr th:only-of-type {\n",
       "        vertical-align: middle;\n",
       "    }\n",
       "\n",
       "    .dataframe tbody tr th {\n",
       "        vertical-align: top;\n",
       "    }\n",
       "\n",
       "    .dataframe thead th {\n",
       "        text-align: right;\n",
       "    }\n",
       "</style>\n",
       "<table border=\"1\" class=\"dataframe\">\n",
       "  <thead>\n",
       "    <tr style=\"text-align: right;\">\n",
       "      <th></th>\n",
       "      <th>Open</th>\n",
       "      <th>High</th>\n",
       "      <th>Low</th>\n",
       "      <th>Close</th>\n",
       "      <th>Adj Close</th>\n",
       "      <th>Volume</th>\n",
       "    </tr>\n",
       "    <tr>\n",
       "      <th>Date</th>\n",
       "      <th></th>\n",
       "      <th></th>\n",
       "      <th></th>\n",
       "      <th></th>\n",
       "      <th></th>\n",
       "      <th></th>\n",
       "    </tr>\n",
       "  </thead>\n",
       "  <tbody>\n",
       "    <tr>\n",
       "      <th>2012-07-18</th>\n",
       "      <td>221.375519</td>\n",
       "      <td>221.523941</td>\n",
       "      <td>216.082306</td>\n",
       "      <td>219.248337</td>\n",
       "      <td>216.751251</td>\n",
       "      <td>11897419</td>\n",
       "    </tr>\n",
       "    <tr>\n",
       "      <th>2012-07-19</th>\n",
       "      <td>222.117569</td>\n",
       "      <td>224.096344</td>\n",
       "      <td>221.424988</td>\n",
       "      <td>222.414383</td>\n",
       "      <td>219.881241</td>\n",
       "      <td>6677436</td>\n",
       "    </tr>\n",
       "    <tr>\n",
       "      <th>2012-07-20</th>\n",
       "      <td>221.622879</td>\n",
       "      <td>223.057480</td>\n",
       "      <td>219.693573</td>\n",
       "      <td>221.029236</td>\n",
       "      <td>218.511841</td>\n",
       "      <td>3940979</td>\n",
       "    </tr>\n",
       "    <tr>\n",
       "      <th>2012-07-23</th>\n",
       "      <td>218.555771</td>\n",
       "      <td>218.654709</td>\n",
       "      <td>212.718384</td>\n",
       "      <td>213.757233</td>\n",
       "      <td>211.322678</td>\n",
       "      <td>5761220</td>\n",
       "    </tr>\n",
       "    <tr>\n",
       "      <th>2012-07-24</th>\n",
       "      <td>214.202469</td>\n",
       "      <td>215.488663</td>\n",
       "      <td>211.085892</td>\n",
       "      <td>213.559357</td>\n",
       "      <td>211.127045</td>\n",
       "      <td>7368372</td>\n",
       "    </tr>\n",
       "  </tbody>\n",
       "</table>\n",
       "</div>"
      ],
      "text/plain": [
       "                  Open        High         Low       Close   Adj Close  \\\n",
       "Date                                                                     \n",
       "2012-07-18  221.375519  221.523941  216.082306  219.248337  216.751251   \n",
       "2012-07-19  222.117569  224.096344  221.424988  222.414383  219.881241   \n",
       "2012-07-20  221.622879  223.057480  219.693573  221.029236  218.511841   \n",
       "2012-07-23  218.555771  218.654709  212.718384  213.757233  211.322678   \n",
       "2012-07-24  214.202469  215.488663  211.085892  213.559357  211.127045   \n",
       "\n",
       "              Volume  \n",
       "Date                  \n",
       "2012-07-18  11897419  \n",
       "2012-07-19   6677436  \n",
       "2012-07-20   3940979  \n",
       "2012-07-23   5761220  \n",
       "2012-07-24   7368372  "
      ]
     },
     "execution_count": 11,
     "metadata": {},
     "output_type": "execute_result"
    }
   ],
   "source": [
    "df.head()"
   ]
  },
  {
   "cell_type": "code",
   "execution_count": 12,
   "metadata": {
    "colab": {
     "base_uri": "https://localhost:8080/"
    },
    "id": "TpfJej1ztYyw",
    "outputId": "b5e55ebe-256d-4624-f6d0-2be1d97dbc22"
   },
   "outputs": [
    {
     "data": {
      "text/plain": [
       "DatetimeIndex(['2012-07-18', '2012-07-19', '2012-07-20', '2012-07-23',\n",
       "               '2012-07-24', '2012-07-25', '2012-07-26', '2012-07-27',\n",
       "               '2012-07-30', '2012-07-31',\n",
       "               ...\n",
       "               '2022-07-04', '2022-07-05', '2022-07-06', '2022-07-07',\n",
       "               '2022-07-08', '2022-07-11', '2022-07-12', '2022-07-13',\n",
       "               '2022-07-14', '2022-07-15'],\n",
       "              dtype='datetime64[ns]', name='Date', length=2463, freq=None)"
      ]
     },
     "execution_count": 12,
     "metadata": {},
     "output_type": "execute_result"
    }
   ],
   "source": [
    "df.index"
   ]
  },
  {
   "cell_type": "markdown",
   "metadata": {
    "id": "DYjX_xYAtnYO"
   },
   "source": [
    "Check whether you have duplicate data on by date"
   ]
  },
  {
   "cell_type": "code",
   "execution_count": 13,
   "metadata": {
    "colab": {
     "base_uri": "https://localhost:8080/",
     "height": 81
    },
    "id": "MHThdAkBselW",
    "outputId": "197eb950-7c34-4286-ae0b-c3ef1cd2255a"
   },
   "outputs": [
    {
     "data": {
      "text/html": [
       "<div>\n",
       "<style scoped>\n",
       "    .dataframe tbody tr th:only-of-type {\n",
       "        vertical-align: middle;\n",
       "    }\n",
       "\n",
       "    .dataframe tbody tr th {\n",
       "        vertical-align: top;\n",
       "    }\n",
       "\n",
       "    .dataframe thead th {\n",
       "        text-align: right;\n",
       "    }\n",
       "</style>\n",
       "<table border=\"1\" class=\"dataframe\">\n",
       "  <thead>\n",
       "    <tr style=\"text-align: right;\">\n",
       "      <th></th>\n",
       "      <th>Open</th>\n",
       "      <th>High</th>\n",
       "      <th>Low</th>\n",
       "      <th>Close</th>\n",
       "      <th>Adj Close</th>\n",
       "      <th>Volume</th>\n",
       "    </tr>\n",
       "    <tr>\n",
       "      <th>Date</th>\n",
       "      <th></th>\n",
       "      <th></th>\n",
       "      <th></th>\n",
       "      <th></th>\n",
       "      <th></th>\n",
       "      <th></th>\n",
       "    </tr>\n",
       "  </thead>\n",
       "  <tbody>\n",
       "  </tbody>\n",
       "</table>\n",
       "</div>"
      ],
      "text/plain": [
       "Empty DataFrame\n",
       "Columns: [Open, High, Low, Close, Adj Close, Volume]\n",
       "Index: []"
      ]
     },
     "execution_count": 13,
     "metadata": {},
     "output_type": "execute_result"
    }
   ],
   "source": [
    "df[df.index.duplicated(keep = False)]"
   ]
  },
  {
   "cell_type": "code",
   "execution_count": 14,
   "metadata": {
    "colab": {
     "base_uri": "https://localhost:8080/",
     "height": 390
    },
    "id": "0EHWVgg4tapn",
    "outputId": "aff92246-96ce-4908-b8bb-aaec1947782e"
   },
   "outputs": [
    {
     "data": {
      "text/plain": [
       "<AxesSubplot:xlabel='Date'>"
      ]
     },
     "execution_count": 14,
     "metadata": {},
     "output_type": "execute_result"
    },
    {
     "data": {
      "image/png": "[encoded data removed]",
      "text/plain": [
       "<Figure size 864x432 with 1 Axes>"
      ]
     },
     "metadata": {
      "needs_background": "light"
     },
     "output_type": "display_data"
    }
   ],
   "source": [
    "y = np.log(df[\"Close\"])\n",
    "y.plot()"
   ]
  },
  {
   "cell_type": "code",
   "execution_count": 15,
   "metadata": {
    "colab": {
     "base_uri": "https://localhost:8080/"
    },
    "id": "BIVM_qrXx3Gy",
    "outputId": "0e6c5fa8-432f-4c84-f6b2-52b5df87f270"
   },
   "outputs": [
    {
     "data": {
      "text/plain": [
       "DatetimeIndex(['2012-07-18', '2012-07-19', '2012-07-20', '2012-07-23',\n",
       "               '2012-07-24', '2012-07-25', '2012-07-26', '2012-07-27',\n",
       "               '2012-07-30', '2012-07-31',\n",
       "               ...\n",
       "               '2022-07-04', '2022-07-05', '2022-07-06', '2022-07-07',\n",
       "               '2022-07-08', '2022-07-11', '2022-07-12', '2022-07-13',\n",
       "               '2022-07-14', '2022-07-15'],\n",
       "              dtype='datetime64[ns]', name='Date', length=2463, freq=None)"
      ]
     },
     "execution_count": 15,
     "metadata": {},
     "output_type": "execute_result"
    }
   ],
   "source": [
    "y.index"
   ]
  },
  {
   "cell_type": "markdown",
   "metadata": {
    "id": "Nc4RmLJbyq-L"
   },
   "source": [
    "Calculate rolling mean, exponentially weighted mean"
   ]
  },
  {
   "cell_type": "code",
   "execution_count": 16,
   "metadata": {
    "colab": {
     "base_uri": "https://localhost:8080/",
     "height": 238
    },
    "id": "WbDJFtpfyohM",
    "outputId": "66094f66-5d7c-44ee-e9a6-873899188049"
   },
   "outputs": [
    {
     "data": {
      "text/html": [
       "<div>\n",
       "<style scoped>\n",
       "    .dataframe tbody tr th:only-of-type {\n",
       "        vertical-align: middle;\n",
       "    }\n",
       "\n",
       "    .dataframe tbody tr th {\n",
       "        vertical-align: top;\n",
       "    }\n",
       "\n",
       "    .dataframe thead th {\n",
       "        text-align: right;\n",
       "    }\n",
       "</style>\n",
       "<table border=\"1\" class=\"dataframe\">\n",
       "  <thead>\n",
       "    <tr style=\"text-align: right;\">\n",
       "      <th></th>\n",
       "      <th>actual</th>\n",
       "      <th>rolling_mean</th>\n",
       "      <th>ewm</th>\n",
       "    </tr>\n",
       "    <tr>\n",
       "      <th>Date</th>\n",
       "      <th></th>\n",
       "      <th></th>\n",
       "      <th></th>\n",
       "    </tr>\n",
       "  </thead>\n",
       "  <tbody>\n",
       "    <tr>\n",
       "      <th>2022-07-11</th>\n",
       "      <td>6.080048</td>\n",
       "      <td>6.059562</td>\n",
       "      <td>6.055016</td>\n",
       "    </tr>\n",
       "    <tr>\n",
       "      <th>2022-07-12</th>\n",
       "      <td>6.065063</td>\n",
       "      <td>6.057987</td>\n",
       "      <td>6.055215</td>\n",
       "    </tr>\n",
       "    <tr>\n",
       "      <th>2022-07-13</th>\n",
       "      <td>6.057018</td>\n",
       "      <td>6.056442</td>\n",
       "      <td>6.055250</td>\n",
       "    </tr>\n",
       "    <tr>\n",
       "      <th>2022-07-14</th>\n",
       "      <td>6.059240</td>\n",
       "      <td>6.054889</td>\n",
       "      <td>6.055329</td>\n",
       "    </tr>\n",
       "    <tr>\n",
       "      <th>2022-07-15</th>\n",
       "      <td>6.087229</td>\n",
       "      <td>6.053753</td>\n",
       "      <td>6.055961</td>\n",
       "    </tr>\n",
       "  </tbody>\n",
       "</table>\n",
       "</div>"
      ],
      "text/plain": [
       "              actual  rolling_mean       ewm\n",
       "Date                                        \n",
       "2022-07-11  6.080048      6.059562  6.055016\n",
       "2022-07-12  6.065063      6.057987  6.055215\n",
       "2022-07-13  6.057018      6.056442  6.055250\n",
       "2022-07-14  6.059240      6.054889  6.055329\n",
       "2022-07-15  6.087229      6.053753  6.055961"
      ]
     },
     "execution_count": 16,
     "metadata": {},
     "output_type": "execute_result"
    }
   ],
   "source": [
    "period = 100\n",
    "y_rolling = pd.DataFrame(dict(actual = y, \n",
    "                              rolling_mean = y.rolling(period).mean(), \n",
    "                              ewm = y.ewm(span = period).mean()\n",
    "                             ))\n",
    "y_rolling.tail()"
   ]
  },
  {
   "cell_type": "code",
   "execution_count": 17,
   "metadata": {
    "colab": {
     "base_uri": "https://localhost:8080/"
    },
    "id": "aI5pwCdIy690",
    "outputId": "912f40c8-bd5d-4790-8698-5dd97b50b747"
   },
   "outputs": [
    {
     "name": "stdout",
     "output_type": "stream",
     "text": [
      "rmse over rolling mean:  0.18606566333622673\n",
      "rmse over ewma:  0.1581524413253412\n"
     ]
    }
   ],
   "source": [
    "rolling_dropped = y_rolling.dropna()\n",
    "print(\"rmse over rolling mean: \", metrics.mean_squared_error(rolling_dropped.actual, rolling_dropped.rolling_mean) ** 0.5)\n",
    "print(\"rmse over ewma: \", metrics.mean_squared_error(rolling_dropped.actual, rolling_dropped[\"ewm\"]) ** 0.5)"
   ]
  },
  {
   "cell_type": "markdown",
   "metadata": {
    "id": "rGQL80_6y-k7"
   },
   "source": [
    "By visual inspection, we see the time series is not stationary. Let we will see a more formal way of testing using Dickey Fullter Test."
   ]
  },
  {
   "cell_type": "code",
   "execution_count": 18,
   "metadata": {
    "colab": {
     "base_uri": "https://localhost:8080/",
     "height": 390
    },
    "id": "M09S497Ay98t",
    "outputId": "fa859b8a-a53e-4e1a-bc47-10b609195c06"
   },
   "outputs": [
    {
     "data": {
      "text/plain": [
       "<AxesSubplot:xlabel='Date'>"
      ]
     },
     "execution_count": 18,
     "metadata": {},
     "output_type": "execute_result"
    },
    {
     "data": {
      "image/png": "[encoded data removed]",
      "text/plain": [
       "<Figure size 864x432 with 1 Axes>"
      ]
     },
     "metadata": {
      "needs_background": "light"
     },
     "output_type": "display_data"
    }
   ],
   "source": [
    "y_rolling.plot()"
   ]
  },
  {
   "cell_type": "markdown",
   "metadata": {
    "id": "n8C4YBGizGJ9"
   },
   "source": [
    "Formal of way of test for stationarity. Since the p-value of Augmented Dickey Fullter test is > 0.05, we can say that there is not sufficient proof that the time series is stationary. Loosely speaking, it is non-stationary. We need further transformation to make data stationary. Populary method for making data stationary will be to take \"difference\". Taking difference by lag one, we see the p-val for Dickey Fuller test is < 0.05. So we conclude, diff 1 has made the data stationary."
   ]
  },
  {
   "cell_type": "code",
   "execution_count": 19,
   "metadata": {
    "colab": {
     "base_uri": "https://localhost:8080/"
    },
    "id": "TCcDmvfj1RKj",
    "outputId": "84e52bcb-ff3e-4958-9027-f6c6a556a828"
   },
   "outputs": [
    {
     "name": "stdout",
     "output_type": "stream",
     "text": [
      "ADF Statistic: -1.393212\n",
      "p-value: 0.585526\n",
      "Critical Values:\n",
      "\t1%: -3.433\n",
      "\t5%: -2.863\n",
      "\t10%: -2.567\n",
      "\u001b[31mNon-stationary\u001b[0m\n"
     ]
    }
   ],
   "source": [
    "from statsmodels.tsa.stattools import adfuller\n",
    "def check_stationarity(series):\n",
    "    result = adfuller(series.values)\n",
    "\n",
    "    print('ADF Statistic: %f' % result[0])\n",
    "    print('p-value: %f' % result[1])\n",
    "    print('Critical Values:')\n",
    "    for key, value in result[4].items():\n",
    "        print('\\t%s: %.3f' % (key, value))\n",
    "\n",
    "    if (result[1] <= 0.05) & (result[4]['5%'] > result[0]):\n",
    "        print(\"\\u001b[32mStationary\\u001b[0m\")\n",
    "    else:\n",
    "        print(\"\\x1b[31mNon-stationary\\x1b[0m\")\n",
    "\n",
    "check_stationarity(y.dropna())"
   ]
  },
  {
   "cell_type": "code",
   "execution_count": 20,
   "metadata": {
    "colab": {
     "base_uri": "https://localhost:8080/",
     "height": 394
    },
    "id": "pYNEQgoizMt3",
    "outputId": "8d7cd533-cb44-45bf-8e0c-228b37b36f87"
   },
   "outputs": [
    {
     "data": {
      "text/html": [
       "<div>\n",
       "<style scoped>\n",
       "    .dataframe tbody tr th:only-of-type {\n",
       "        vertical-align: middle;\n",
       "    }\n",
       "\n",
       "    .dataframe tbody tr th {\n",
       "        vertical-align: top;\n",
       "    }\n",
       "\n",
       "    .dataframe thead th {\n",
       "        text-align: right;\n",
       "    }\n",
       "</style>\n",
       "<table border=\"1\" class=\"dataframe\">\n",
       "  <thead>\n",
       "    <tr style=\"text-align: right;\">\n",
       "      <th></th>\n",
       "      <th>actual</th>\n",
       "      <th>diff1</th>\n",
       "      <th>diff2</th>\n",
       "    </tr>\n",
       "    <tr>\n",
       "      <th>Date</th>\n",
       "      <th></th>\n",
       "      <th></th>\n",
       "      <th></th>\n",
       "    </tr>\n",
       "  </thead>\n",
       "  <tbody>\n",
       "    <tr>\n",
       "      <th>2012-07-18</th>\n",
       "      <td>5.390205</td>\n",
       "      <td>NaN</td>\n",
       "      <td>NaN</td>\n",
       "    </tr>\n",
       "    <tr>\n",
       "      <th>2012-07-19</th>\n",
       "      <td>5.404542</td>\n",
       "      <td>NaN</td>\n",
       "      <td>NaN</td>\n",
       "    </tr>\n",
       "    <tr>\n",
       "      <th>2012-07-20</th>\n",
       "      <td>5.398295</td>\n",
       "      <td>NaN</td>\n",
       "      <td>NaN</td>\n",
       "    </tr>\n",
       "    <tr>\n",
       "      <th>2012-07-23</th>\n",
       "      <td>5.364841</td>\n",
       "      <td>-0.025364</td>\n",
       "      <td>NaN</td>\n",
       "    </tr>\n",
       "    <tr>\n",
       "      <th>2012-07-24</th>\n",
       "      <td>5.363915</td>\n",
       "      <td>-0.040627</td>\n",
       "      <td>-0.015263</td>\n",
       "    </tr>\n",
       "    <tr>\n",
       "      <th>2012-07-25</th>\n",
       "      <td>5.350623</td>\n",
       "      <td>-0.047672</td>\n",
       "      <td>-0.007044</td>\n",
       "    </tr>\n",
       "    <tr>\n",
       "      <th>2012-07-26</th>\n",
       "      <td>5.312829</td>\n",
       "      <td>-0.052012</td>\n",
       "      <td>-0.004340</td>\n",
       "    </tr>\n",
       "    <tr>\n",
       "      <th>2012-07-27</th>\n",
       "      <td>5.349919</td>\n",
       "      <td>-0.013996</td>\n",
       "      <td>0.038016</td>\n",
       "    </tr>\n",
       "    <tr>\n",
       "      <th>2012-07-30</th>\n",
       "      <td>5.390656</td>\n",
       "      <td>0.040033</td>\n",
       "      <td>0.054029</td>\n",
       "    </tr>\n",
       "    <tr>\n",
       "      <th>2012-07-31</th>\n",
       "      <td>5.410972</td>\n",
       "      <td>0.098143</td>\n",
       "      <td>0.058110</td>\n",
       "    </tr>\n",
       "  </tbody>\n",
       "</table>\n",
       "</div>"
      ],
      "text/plain": [
       "              actual     diff1     diff2\n",
       "Date                                    \n",
       "2012-07-18  5.390205       NaN       NaN\n",
       "2012-07-19  5.404542       NaN       NaN\n",
       "2012-07-20  5.398295       NaN       NaN\n",
       "2012-07-23  5.364841 -0.025364       NaN\n",
       "2012-07-24  5.363915 -0.040627 -0.015263\n",
       "2012-07-25  5.350623 -0.047672 -0.007044\n",
       "2012-07-26  5.312829 -0.052012 -0.004340\n",
       "2012-07-27  5.349919 -0.013996  0.038016\n",
       "2012-07-30  5.390656  0.040033  0.054029\n",
       "2012-07-31  5.410972  0.098143  0.058110"
      ]
     },
     "execution_count": 20,
     "metadata": {},
     "output_type": "execute_result"
    }
   ],
   "source": [
    "diff = pd.DataFrame({\"actual\": y, \"diff1\": y.diff(3)}).head(10)\n",
    "diff[\"diff2\"] = diff.diff1.diff(1)\n",
    "diff"
   ]
  },
  {
   "cell_type": "code",
   "execution_count": 21,
   "metadata": {
    "colab": {
     "base_uri": "https://localhost:8080/"
    },
    "id": "niBR9K4I08Ld",
    "outputId": "cd8954f5-5007-41ff-ecd5-fdd5e2597370"
   },
   "outputs": [
    {
     "name": "stdout",
     "output_type": "stream",
     "text": [
      "ADF Statistic: -48.545850\n",
      "p-value: 0.000000\n",
      "Critical Values:\n",
      "\t1%: -3.433\n",
      "\t5%: -2.863\n",
      "\t10%: -2.567\n",
      "\u001b[32mStationary\u001b[0m\n"
     ]
    }
   ],
   "source": [
    "def check_stationarity(series):\n",
    "    result = adfuller(series.values)\n",
    "\n",
    "    print('ADF Statistic: %f' % result[0])\n",
    "    print('p-value: %f' % result[1])\n",
    "    print('Critical Values:')\n",
    "    for key, value in result[4].items():\n",
    "        print('\\t%s: %.3f' % (key, value))\n",
    "\n",
    "    if (result[1] <= 0.05) & (result[4]['5%'] > result[0]):\n",
    "        print(\"\\u001b[32mStationary\\u001b[0m\")\n",
    "    else:\n",
    "        print(\"\\x1b[31mNon-stationary\\x1b[0m\")\n",
    "\n",
    "check_stationarity(y.diff(periods=1).dropna())"
   ]
  },
  {
   "cell_type": "code",
   "execution_count": 22,
   "metadata": {
    "colab": {
     "base_uri": "https://localhost:8080/",
     "height": 387
    },
    "id": "pNTi8VugzWHs",
    "outputId": "d0a45d54-0bc8-43db-f759-4a09945aba5f"
   },
   "outputs": [
    {
     "data": {
      "text/plain": [
       "<AxesSubplot:xlabel='Date'>"
      ]
     },
     "execution_count": 22,
     "metadata": {},
     "output_type": "execute_result"
    },
    {
     "data": {
      "image/png": "[encoded data removed]",
      "text/plain": [
       "<Figure size 864x432 with 1 Axes>"
      ]
     },
     "metadata": {
      "needs_background": "light"
     },
     "output_type": "display_data"
    }
   ],
   "source": [
    "y.diff(periods=1).plot()"
   ]
  },
  {
   "cell_type": "markdown",
   "metadata": {
    "id": "l-9SCo14zaDR"
   },
   "source": [
    "Use pandas's auto correlation plot. Here is a nice explanation of the autocorrelation plot"
   ]
  },
  {
   "cell_type": "code",
   "execution_count": 23,
   "metadata": {
    "colab": {
     "base_uri": "https://localhost:8080/",
     "height": 412
    },
    "id": "w3zx6HQqzcI8",
    "outputId": "e0710fc7-4ae5-4747-fee4-589c6fa4aec0"
   },
   "outputs": [
    {
     "data": {
      "text/plain": [
       "<AxesSubplot:xlabel='Lag', ylabel='Autocorrelation'>"
      ]
     },
     "execution_count": 23,
     "metadata": {},
     "output_type": "execute_result"
    },
    {
     "data": {
      "image/png": "[encoded data removed]",
      "text/plain": [
       "<Figure size 864x432 with 1 Axes>"
      ]
     },
     "metadata": {
      "needs_background": "light"
     },
     "output_type": "display_data"
    }
   ],
   "source": [
    "from pandas.plotting import autocorrelation_plot\n",
    "autocorrelation_plot(y)"
   ]
  },
  {
   "cell_type": "code",
   "execution_count": 24,
   "metadata": {
    "id": "HkhtB1sazfR8"
   },
   "outputs": [],
   "source": [
    "y = y.dropna()"
   ]
  },
  {
   "cell_type": "code",
   "execution_count": 25,
   "metadata": {
    "colab": {
     "base_uri": "https://localhost:8080/"
    },
    "id": "Icolo5JXn1mu",
    "outputId": "91873a4c-8131-429d-b3c1-6ac3dbdbd58f"
   },
   "outputs": [
    {
     "name": "stdout",
     "output_type": "stream",
     "text": [
      "Performing stepwise search to minimize aic\n",
      " ARIMA(0,1,0)(0,0,0)[0] intercept   : AIC=-10817.813, Time=0.33 sec\n",
      " ARIMA(1,1,0)(0,0,0)[0] intercept   : AIC=-10816.907, Time=0.26 sec\n",
      " ARIMA(0,1,1)(0,0,0)[0] intercept   : AIC=-10816.890, Time=0.45 sec\n",
      " ARIMA(0,1,0)(0,0,0)[0]             : AIC=-10819.540, Time=0.16 sec\n",
      " ARIMA(1,1,1)(0,0,0)[0] intercept   : AIC=-10815.118, Time=1.28 sec\n",
      "\n",
      "Best model:  ARIMA(0,1,0)(0,0,0)[0]          \n",
      "Total fit time: 2.485 seconds\n",
      "                               SARIMAX Results                                \n",
      "==============================================================================\n",
      "Dep. Variable:                      y   No. Observations:                 2463\n",
      "Model:               SARIMAX(0, 1, 0)   Log Likelihood                5410.770\n",
      "Date:                Thu, 28 Jul 2022   AIC                         -10819.540\n",
      "Time:                        12:59:33   BIC                         -10813.731\n",
      "Sample:                             0   HQIC                        -10817.429\n",
      "                               - 2463                                         \n",
      "Covariance Type:                  opg                                         \n",
      "==============================================================================\n",
      "                 coef    std err          z      P>|z|      [0.025      0.975]\n",
      "------------------------------------------------------------------------------\n",
      "sigma2         0.0007   1.03e-05     70.098      0.000       0.001       0.001\n",
      "===================================================================================\n",
      "Ljung-Box (L1) (Q):                   1.09   Jarque-Bera (JB):              3673.39\n",
      "Prob(Q):                              0.30   Prob(JB):                         0.00\n",
      "Heteroskedasticity (H):               2.51   Skew:                             0.20\n",
      "Prob(H) (two-sided):                  0.00   Kurtosis:                         8.97\n",
      "===================================================================================\n",
      "\n",
      "Warnings:\n",
      "[1] Covariance matrix calculated using the outer product of gradients (complex-step).\n"
     ]
    }
   ],
   "source": [
    "from statsmodels.tsa.arima_model import ARIMA\n",
    "from pmdarima.arima import auto_arima\n",
    "\n",
    "model_autoARIMA = auto_arima(y, start_p=0, start_q=0,\n",
    "                      test='adf',       # use adftest to find             optimal 'd'\n",
    "                      max_p=3, max_q=3, # maximum p and q\n",
    "                      m=1,              # frequency of series\n",
    "                      d=None,           # let model determine 'd'\n",
    "                      seasonal=False,   # No Seasonality\n",
    "                      start_P=0, \n",
    "                      D=0, \n",
    "                      trace=True,\n",
    "                      error_action='ignore',  \n",
    "                      suppress_warnings=True, \n",
    "                      stepwise=True)\n",
    "print(model_autoARIMA.summary())"
   ]
  },
  {
   "cell_type": "code",
   "execution_count": 26,
   "metadata": {
    "colab": {
     "base_uri": "https://localhost:8080/",
     "height": 976
    },
    "id": "qJ75Y_X-zh5X",
    "outputId": "f12b392b-15f3-4291-8d42-64152d6f3a83"
   },
   "outputs": [
    {
     "name": "stderr",
     "output_type": "stream",
     "text": [
      "C:\\Users\\HP\\anaconda3\\shreyansh data  science\\lib\\site-packages\\statsmodels\\tsa\\arima_model.py:472: FutureWarning: \n",
      "statsmodels.tsa.arima_model.ARMA and statsmodels.tsa.arima_model.ARIMA have\n",
      "been deprecated in favor of statsmodels.tsa.arima.model.ARIMA (note the .\n",
      "between arima and model) and\n",
      "statsmodels.tsa.SARIMAX. These will be removed after the 0.12 release.\n",
      "\n",
      "statsmodels.tsa.arima.model.ARIMA makes use of the statespace framework and\n",
      "is both well tested and maintained.\n",
      "\n",
      "To silence this warning and continue using ARMA and ARIMA until they are\n",
      "removed, use:\n",
      "\n",
      "import warnings\n",
      "warnings.filterwarnings('ignore', 'statsmodels.tsa.arima_model.ARMA',\n",
      "                        FutureWarning)\n",
      "warnings.filterwarnings('ignore', 'statsmodels.tsa.arima_model.ARIMA',\n",
      "                        FutureWarning)\n",
      "\n",
      "  warnings.warn(ARIMA_DEPRECATION_WARN, FutureWarning)\n",
      "C:\\Users\\HP\\anaconda3\\shreyansh data  science\\lib\\site-packages\\statsmodels\\tsa\\base\\tsa_model.py:581: ValueWarning: A date index has been provided, but it has no associated frequency information and so will be ignored when e.g. forecasting.\n",
      "  warnings.warn('A date index has been provided, but it has no'\n",
      "C:\\Users\\HP\\anaconda3\\shreyansh data  science\\lib\\site-packages\\statsmodels\\tsa\\base\\tsa_model.py:581: ValueWarning: A date index has been provided, but it has no associated frequency information and so will be ignored when e.g. forecasting.\n",
      "  warnings.warn('A date index has been provided, but it has no'\n"
     ]
    },
    {
     "name": "stdout",
     "output_type": "stream",
     "text": [
      "                  0\n",
      "count  2.462000e+03\n",
      "mean   5.709058e-10\n",
      "std    2.687647e-02\n",
      "min   -1.936582e-01\n",
      "25%   -1.361539e-02\n",
      "50%   -2.831124e-04\n",
      "75%    1.322949e-02\n",
      "max    1.857541e-01\n"
     ]
    },
    {
     "data": {
      "image/png": "[encoded data removed]",
      "text/plain": [
       "<Figure size 864x432 with 1 Axes>"
      ]
     },
     "metadata": {
      "needs_background": "light"
     },
     "output_type": "display_data"
    },
    {
     "data": {
      "image/png": "[encoded data removed]",
      "text/plain": [
       "<Figure size 864x432 with 1 Axes>"
      ]
     },
     "metadata": {
      "needs_background": "light"
     },
     "output_type": "display_data"
    }
   ],
   "source": [
    "from statsmodels.tsa.arima_model import ARIMA\n",
    "\n",
    "p=0\n",
    "d=1\n",
    "q=0\n",
    "\n",
    "# fit model\n",
    "model = ARIMA(y, order=(p, d, q)) \n",
    "model_fit = model.fit(disp=0)\n",
    "#print(model_fit.summary())\n",
    "\n",
    "# plot residual erros\n",
    "residuals = pd.DataFrame(model_fit.resid)\n",
    "residuals.plot()\n",
    "residuals.plot(kind='kde')\n",
    "print(residuals.describe())"
   ]
  },
  {
   "cell_type": "code",
   "execution_count": 27,
   "metadata": {
    "colab": {
     "base_uri": "https://localhost:8080/",
     "height": 213
    },
    "id": "n56IYjUPzotl",
    "outputId": "21c61903-ca22-43c1-9254-6af009d581b4"
   },
   "outputs": [
    {
     "data": {
      "text/html": [
       "<table class=\"simpletable\">\n",
       "<caption>ARIMA Model Results</caption>\n",
       "<tr>\n",
       "  <th>Dep. Variable:</th>      <td>D.Close</td>     <th>  No. Observations:  </th>    <td>2462</td>   \n",
       "</tr>\n",
       "<tr>\n",
       "  <th>Model:</th>          <td>ARIMA(0, 1, 0)</td>  <th>  Log Likelihood     </th>  <td>5410.907</td> \n",
       "</tr>\n",
       "<tr>\n",
       "  <th>Method:</th>               <td>css</td>       <th>  S.D. of innovations</th>    <td>0.027</td>  \n",
       "</tr>\n",
       "<tr>\n",
       "  <th>Date:</th>          <td>Thu, 28 Jul 2022</td> <th>  AIC                </th> <td>-10817.813</td>\n",
       "</tr>\n",
       "<tr>\n",
       "  <th>Time:</th>              <td>12:59:34</td>     <th>  BIC                </th> <td>-10806.196</td>\n",
       "</tr>\n",
       "<tr>\n",
       "  <th>Sample:</th>                <td>1</td>        <th>  HQIC               </th> <td>-10813.592</td>\n",
       "</tr>\n",
       "<tr>\n",
       "  <th></th>                       <td> </td>        <th>                     </th>      <td> </td>    \n",
       "</tr>\n",
       "</table>\n",
       "<table class=\"simpletable\">\n",
       "<tr>\n",
       "    <td></td>       <th>coef</th>     <th>std err</th>      <th>z</th>      <th>P>|z|</th>  <th>[0.025</th>    <th>0.975]</th>  \n",
       "</tr>\n",
       "<tr>\n",
       "  <th>const</th> <td>    0.0003</td> <td>    0.001</td> <td>    0.523</td> <td> 0.601</td> <td>   -0.001</td> <td>    0.001</td>\n",
       "</tr>\n",
       "</table>"
      ],
      "text/plain": [
       "<class 'statsmodels.iolib.summary.Summary'>\n",
       "\"\"\"\n",
       "                             ARIMA Model Results                              \n",
       "==============================================================================\n",
       "Dep. Variable:                D.Close   No. Observations:                 2462\n",
       "Model:                 ARIMA(0, 1, 0)   Log Likelihood                5410.907\n",
       "Method:                           css   S.D. of innovations              0.027\n",
       "Date:                Thu, 28 Jul 2022   AIC                         -10817.813\n",
       "Time:                        12:59:34   BIC                         -10806.196\n",
       "Sample:                             1   HQIC                        -10813.592\n",
       "                                                                              \n",
       "==============================================================================\n",
       "                 coef    std err          z      P>|z|      [0.025      0.975]\n",
       "------------------------------------------------------------------------------\n",
       "const          0.0003      0.001      0.523      0.601      -0.001       0.001\n",
       "==============================================================================\n",
       "\"\"\""
      ]
     },
     "execution_count": 27,
     "metadata": {},
     "output_type": "execute_result"
    }
   ],
   "source": [
    "model_fit.summary()"
   ]
  },
  {
   "cell_type": "code",
   "execution_count": 28,
   "metadata": {
    "colab": {
     "base_uri": "https://localhost:8080/",
     "height": 391
    },
    "id": "56dxyUyBztUZ",
    "outputId": "76b36d41-167b-4467-c239-a3c12a8abcba"
   },
   "outputs": [
    {
     "name": "stderr",
     "output_type": "stream",
     "text": [
      "C:\\Users\\HP\\anaconda3\\shreyansh data  science\\lib\\site-packages\\statsmodels\\tsa\\arima_model.py:472: FutureWarning: \n",
      "statsmodels.tsa.arima_model.ARMA and statsmodels.tsa.arima_model.ARIMA have\n",
      "been deprecated in favor of statsmodels.tsa.arima.model.ARIMA (note the .\n",
      "between arima and model) and\n",
      "statsmodels.tsa.SARIMAX. These will be removed after the 0.12 release.\n",
      "\n",
      "statsmodels.tsa.arima.model.ARIMA makes use of the statespace framework and\n",
      "is both well tested and maintained.\n",
      "\n",
      "To silence this warning and continue using ARMA and ARIMA until they are\n",
      "removed, use:\n",
      "\n",
      "import warnings\n",
      "warnings.filterwarnings('ignore', 'statsmodels.tsa.arima_model.ARMA',\n",
      "                        FutureWarning)\n",
      "warnings.filterwarnings('ignore', 'statsmodels.tsa.arima_model.ARIMA',\n",
      "                        FutureWarning)\n",
      "\n",
      "  warnings.warn(ARIMA_DEPRECATION_WARN, FutureWarning)\n"
     ]
    },
    {
     "data": {
      "text/plain": [
       "<matplotlib.collections.PolyCollection at 0x26c36f928e0>"
      ]
     },
     "execution_count": 28,
     "metadata": {},
     "output_type": "execute_result"
    },
    {
     "data": {
      "image/png": "[encoded data removed]",
      "text/plain": [
       "<Figure size 864x432 with 1 Axes>"
      ]
     },
     "metadata": {
      "needs_background": "light"
     },
     "output_type": "display_data"
    }
   ],
   "source": [
    "model = ARIMA(y.values, order=(p, d, q))\n",
    "model_fit = model.fit(disp=0)\n",
    "predictions, error, conf_interval = model_fit.forecast(10)\n",
    "plt.plot(predictions)\n",
    "plt.fill_between(range(len(predictions)), conf_interval[:,0], conf_interval[:,1], alpha = 0.3)"
   ]
  },
  {
   "cell_type": "code",
   "execution_count": 29,
   "metadata": {
    "colab": {
     "base_uri": "https://localhost:8080/"
    },
    "id": "p1gidiVUzx6n",
    "outputId": "38fcc67d-4acf-4155-fa4f-16fda8af845c"
   },
   "outputs": [
    {
     "data": {
      "text/plain": [
       "array([6.08751231, 6.08779542, 6.08807853, 6.08836165, 6.08864476,\n",
       "       6.08892787, 6.08921098, 6.0894941 , 6.08977721, 6.09006032])"
      ]
     },
     "execution_count": 29,
     "metadata": {},
     "output_type": "execute_result"
    }
   ],
   "source": [
    "predictions[:10]"
   ]
  },
  {
   "cell_type": "code",
   "execution_count": 30,
   "metadata": {
    "colab": {
     "base_uri": "https://localhost:8080/"
    },
    "id": "ZqvmjOWb0IRk",
    "outputId": "75828f23-b813-40ee-9e3f-068c2b044918"
   },
   "outputs": [
    {
     "name": "stderr",
     "output_type": "stream",
     "text": [
      "C:\\Users\\HP\\anaconda3\\shreyansh data  science\\lib\\site-packages\\statsmodels\\tsa\\arima_model.py:472: FutureWarning: \n",
      "statsmodels.tsa.arima_model.ARMA and statsmodels.tsa.arima_model.ARIMA have\n",
      "been deprecated in favor of statsmodels.tsa.arima.model.ARIMA (note the .\n",
      "between arima and model) and\n",
      "statsmodels.tsa.SARIMAX. These will be removed after the 0.12 release.\n",
      "\n",
      "statsmodels.tsa.arima.model.ARIMA makes use of the statespace framework and\n",
      "is both well tested and maintained.\n",
      "\n",
      "To silence this warning and continue using ARMA and ARIMA until they are\n",
      "removed, use:\n",
      "\n",
      "import warnings\n",
      "warnings.filterwarnings('ignore', 'statsmodels.tsa.arima_model.ARMA',\n",
      "                        FutureWarning)\n",
      "warnings.filterwarnings('ignore', 'statsmodels.tsa.arima_model.ARIMA',\n",
      "                        FutureWarning)\n",
      "\n",
      "  warnings.warn(ARIMA_DEPRECATION_WARN, FutureWarning)\n"
     ]
    },
    {
     "name": "stdout",
     "output_type": "stream",
     "text": [
      "predicted=5.050940, actual=5.018934\n",
      "predicted=5.018719, actual=4.971894\n",
      "predicted=4.971652, actual=4.991452\n",
      "predicted=4.991221, actual=4.923988\n",
      "predicted=4.923718, actual=4.893727\n",
      "predicted=4.893440, actual=4.909709\n",
      "predicted=4.909432, actual=4.864067\n",
      "predicted=4.863763, actual=4.872905\n",
      "predicted=4.872606, actual=4.818263\n",
      "predicted=4.817933, actual=4.808111\n",
      "predicted=4.807775, actual=4.765587\n",
      "predicted=4.765227, actual=4.820685\n",
      "predicted=4.820356, actual=4.804431\n",
      "predicted=4.804093, actual=4.803611\n",
      "predicted=4.803273, actual=4.794964\n",
      "predicted=4.794621, actual=4.798679\n",
      "predicted=4.798339, actual=4.794136\n",
      "predicted=4.793794, actual=4.819071\n",
      "predicted=4.818743, actual=4.722064\n",
      "predicted=4.721680, actual=4.679350\n",
      "predicted=4.678942, actual=4.709981\n",
      "predicted=4.709591, actual=4.705468\n",
      "predicted=4.705076, actual=4.790404\n",
      "predicted=4.790061, actual=4.756603\n",
      "predicted=4.756240, actual=4.738827\n",
      "predicted=4.738454, actual=4.759607\n",
      "predicted=4.759246, actual=4.724286\n",
      "predicted=4.723905, actual=4.695925\n",
      "predicted=4.695528, actual=4.771108\n",
      "predicted=4.770755, actual=4.797855\n",
      "predicted=4.797517, actual=4.803201\n"
     ]
    },
    {
     "name": "stderr",
     "output_type": "stream",
     "text": [
      "C:\\Users\\HP\\anaconda3\\shreyansh data  science\\lib\\site-packages\\statsmodels\\base\\model.py:566: ConvergenceWarning: Maximum Likelihood optimization failed to converge. Check mle_retvals\n",
      "  warnings.warn(\"Maximum Likelihood optimization failed to \"\n"
     ]
    },
    {
     "name": "stdout",
     "output_type": "stream",
     "text": [
      "predicted=4.802866, actual=4.900448\n",
      "predicted=4.900169, actual=4.851640\n",
      "predicted=4.851333, actual=4.864067\n",
      "predicted=4.863767, actual=4.856707\n",
      "predicted=4.856403, actual=4.804021\n",
      "predicted=4.803688, actual=4.801970\n",
      "predicted=4.801636, actual=4.821893\n",
      "predicted=4.821570, actual=4.892227\n",
      "predicted=4.891944, actual=4.851249\n",
      "predicted=4.850943, actual=4.874434\n",
      "predicted=4.874141, actual=4.812591\n",
      "predicted=4.812264, actual=4.824306\n",
      "predicted=4.823985, actual=4.786658\n",
      "predicted=4.786317, actual=4.766013\n",
      "predicted=4.765660, actual=4.747537\n",
      "predicted=4.747174, actual=4.807294\n",
      "predicted=4.806965, actual=4.784571\n",
      "predicted=4.784229, actual=4.766438\n",
      "predicted=4.766086, actual=4.794964\n",
      "predicted=4.794628, actual=4.760463\n",
      "predicted=4.760108, actual=4.798267\n",
      "predicted=4.797933, actual=4.850858\n",
      "predicted=4.850554, actual=4.843793\n",
      "predicted=4.843486, actual=4.835091\n",
      "predicted=4.834778, actual=4.938065\n",
      "predicted=4.937810, actual=4.918885\n",
      "predicted=4.918621, actual=4.880906\n",
      "predicted=4.880620, actual=4.887714\n",
      "predicted=4.887432, actual=4.894101\n",
      "predicted=4.893823, actual=4.843005\n",
      "predicted=4.842699, actual=4.995183\n",
      "predicted=4.994962, actual=5.150107\n",
      "predicted=5.149973, actual=5.146913\n",
      "predicted=5.146777, actual=5.180097\n",
      "predicted=5.179979, actual=5.165072\n",
      "predicted=5.164946, actual=5.148657\n",
      "predicted=5.148522, actual=5.147494\n",
      "predicted=5.147359, actual=5.161925\n",
      "predicted=5.161797, actual=5.144583\n",
      "predicted=5.144446, actual=5.130195\n",
      "predicted=5.130050, actual=5.147494\n",
      "predicted=5.147359, actual=5.139322\n",
      "predicted=5.139182, actual=5.118293\n",
      "predicted=5.118142, actual=5.127232\n",
      "predicted=5.127086, actual=5.136387\n",
      "predicted=5.136245, actual=5.122475\n",
      "predicted=5.122326, actual=5.120386\n",
      "predicted=5.120236, actual=5.100781\n",
      "predicted=5.100620, actual=5.089755\n",
      "predicted=5.089588, actual=5.112590\n",
      "predicted=5.112436, actual=5.096201\n",
      "predicted=5.096038, actual=5.111385\n",
      "predicted=5.111231, actual=5.104733\n",
      "predicted=5.104575, actual=5.084505\n",
      "predicted=5.084336, actual=5.081715\n",
      "predicted=5.081544, actual=5.063860\n",
      "predicted=5.063680, actual=5.132263\n",
      "predicted=5.132120, actual=5.112590\n",
      "predicted=5.112437, actual=5.084505\n",
      "predicted=5.084337, actual=5.078294\n",
      "predicted=5.078122, actual=5.073297\n",
      "predicted=5.073122, actual=5.086361\n",
      "predicted=5.086194, actual=5.155313\n",
      "predicted=5.155183, actual=5.174453\n",
      "predicted=5.174335, actual=5.164500\n",
      "predicted=5.164376, actual=5.194067\n",
      "predicted=5.193960, actual=5.163642\n",
      "predicted=5.163518, actual=5.188223\n",
      "predicted=5.188113, actual=5.170200\n",
      "predicted=5.170079, actual=5.170768\n",
      "predicted=5.170648, actual=5.167639\n",
      "predicted=5.167517, actual=5.162498\n",
      "predicted=5.162373, actual=5.171336\n",
      "predicted=5.171216, actual=5.213304\n",
      "predicted=5.213207, actual=5.221166\n",
      "predicted=5.221074, actual=5.217378\n",
      "predicted=5.217284, actual=5.266569\n",
      "predicted=5.266501, actual=5.252797\n",
      "predicted=5.252722, actual=5.223863\n",
      "predicted=5.223772, actual=5.218733\n",
      "predicted=5.218639, actual=5.207024\n",
      "predicted=5.206924, actual=5.257495\n",
      "predicted=5.257423, actual=5.279899\n",
      "predicted=5.279839, actual=5.279389\n",
      "predicted=5.279329, actual=5.277349\n",
      "predicted=5.277288, actual=5.300066\n",
      "predicted=5.300017, actual=5.285992\n",
      "predicted=5.285935, actual=5.284725\n",
      "predicted=5.284668, actual=5.273000\n",
      "predicted=5.272936, actual=5.254365\n",
      "predicted=5.254292, actual=5.223594\n",
      "predicted=5.223504, actual=5.238567\n",
      "predicted=5.238485, actual=5.228431\n",
      "predicted=5.228344, actual=5.205105\n",
      "predicted=5.205005, actual=5.171052\n",
      "predicted=5.170934, actual=5.236708\n",
      "predicted=5.236625, actual=5.226821\n",
      "predicted=5.226733, actual=5.173887\n",
      "predicted=5.173771, actual=5.098951\n"
     ]
    },
    {
     "name": "stderr",
     "output_type": "stream",
     "text": [
      "C:\\Users\\HP\\anaconda3\\shreyansh data  science\\lib\\site-packages\\statsmodels\\base\\model.py:566: ConvergenceWarning: Maximum Likelihood optimization failed to converge. Check mle_retvals\n",
      "  warnings.warn(\"Maximum Likelihood optimization failed to \"\n",
      "C:\\Users\\HP\\anaconda3\\shreyansh data  science\\lib\\site-packages\\statsmodels\\base\\model.py:566: ConvergenceWarning: Maximum Likelihood optimization failed to converge. Check mle_retvals\n",
      "  warnings.warn(\"Maximum Likelihood optimization failed to \"\n"
     ]
    },
    {
     "name": "stdout",
     "output_type": "stream",
     "text": [
      "predicted=5.098794, actual=5.110179\n",
      "predicted=5.110028, actual=5.213576\n",
      "predicted=5.213481, actual=5.186547\n",
      "predicted=5.186438, actual=5.156754\n",
      "predicted=5.156628, actual=5.129307\n",
      "predicted=5.129166, actual=5.134327\n",
      "predicted=5.134189, actual=5.141371\n",
      "predicted=5.141237, actual=5.132853\n",
      "predicted=5.132715, actual=5.130490\n",
      "predicted=5.130351, actual=5.130490\n",
      "predicted=5.130351, actual=5.085124\n",
      "predicted=5.084961, actual=5.062911\n",
      "predicted=5.062736, actual=5.065755\n",
      "predicted=5.065581, actual=5.014959\n",
      "predicted=5.014758, actual=5.009968\n",
      "predicted=5.009765, actual=4.973625\n",
      "predicted=4.973403, actual=4.978456\n",
      "predicted=4.978236, actual=4.859425\n",
      "predicted=4.859141, actual=4.831509\n",
      "predicted=4.831210, actual=4.870223\n",
      "predicted=4.869946, actual=4.837868\n",
      "predicted=4.837573, actual=4.834296\n",
      "predicted=4.833999, actual=4.737951\n",
      "predicted=4.737604, actual=4.660605\n",
      "predicted=4.660216, actual=4.594109\n",
      "predicted=4.593685, actual=4.477337\n",
      "predicted=4.476851, actual=4.497028\n",
      "predicted=4.496553, actual=4.418238\n",
      "predicted=4.417721, actual=4.356068\n",
      "predicted=4.355518, actual=4.324133\n",
      "predicted=4.323566, actual=4.289774\n",
      "predicted=4.289190, actual=4.347694\n",
      "predicted=4.347141, actual=4.192680\n",
      "predicted=4.192045, actual=4.227563\n",
      "predicted=4.226947, actual=4.252060\n",
      "predicted=4.251457, actual=4.259859\n",
      "predicted=4.259261, actual=4.258446\n",
      "predicted=4.257847, actual=4.221711\n",
      "predicted=4.221093, actual=4.263384\n",
      "predicted=4.262788, actual=4.218772\n",
      "predicted=4.218153, actual=4.178992\n",
      "predicted=4.178353, actual=4.208417\n",
      "predicted=4.207793, actual=4.213608\n",
      "predicted=4.212987, actual=4.312140\n",
      "predicted=4.311572, actual=4.307438\n",
      "predicted=4.306867, actual=4.289089\n",
      "predicted=4.288509, actual=4.312811\n",
      "predicted=4.312243, actual=4.341855\n",
      "predicted=4.341304, actual=4.387636\n",
      "predicted=4.387109, actual=4.312811\n",
      "predicted=4.312244, actual=4.329417\n",
      "predicted=4.328860, actual=4.326117\n",
      "predicted=4.325559, actual=4.306764\n",
      "predicted=4.306196, actual=4.320816\n",
      "predicted=4.320255, actual=4.343156\n",
      "predicted=4.342607, actual=4.358630\n",
      "predicted=4.358090, actual=4.535284\n",
      "predicted=4.534836, actual=4.429626\n",
      "predicted=4.429123, actual=4.393214\n",
      "predicted=4.392692, actual=4.421247\n",
      "predicted=4.420741, actual=4.412798\n",
      "predicted=4.412288, actual=4.395066\n",
      "predicted=4.394547, actual=4.455509\n",
      "predicted=4.455022, actual=4.456670\n",
      "predicted=4.456183, actual=4.468204\n",
      "predicted=4.467724, actual=4.428433\n",
      "predicted=4.427932, actual=4.434975\n",
      "predicted=4.434477, actual=4.390119\n",
      "predicted=4.389598, actual=4.404277\n",
      "predicted=4.403764, actual=4.424248\n",
      "predicted=4.423745, actual=4.432007\n",
      "predicted=4.431509, actual=4.416428\n",
      "predicted=4.415922, actual=4.420045\n",
      "predicted=4.419541, actual=4.437343\n",
      "predicted=4.436849, actual=4.465908\n",
      "predicted=4.465429, actual=4.465908\n",
      "predicted=4.465429, actual=4.494797\n",
      "predicted=4.494333, actual=4.569543\n",
      "predicted=4.569118, actual=4.592591\n",
      "predicted=4.592179, actual=4.590057\n",
      "predicted=4.589643, actual=4.707275\n"
     ]
    },
    {
     "name": "stderr",
     "output_type": "stream",
     "text": [
      "C:\\Users\\HP\\anaconda3\\shreyansh data  science\\lib\\site-packages\\statsmodels\\base\\model.py:566: ConvergenceWarning: Maximum Likelihood optimization failed to converge. Check mle_retvals\n",
      "  warnings.warn(\"Maximum Likelihood optimization failed to \"\n",
      "C:\\Users\\HP\\anaconda3\\shreyansh data  science\\lib\\site-packages\\statsmodels\\base\\model.py:566: ConvergenceWarning: Maximum Likelihood optimization failed to converge. Check mle_retvals\n",
      "  warnings.warn(\"Maximum Likelihood optimization failed to \"\n"
     ]
    },
    {
     "name": "stdout",
     "output_type": "stream",
     "text": [
      "predicted=4.706922, actual=4.748838\n",
      "predicted=4.748506, actual=4.713576\n",
      "predicted=4.713227, actual=4.713127\n",
      "predicted=4.712778, actual=4.664853\n",
      "predicted=4.664479, actual=4.656813\n",
      "predicted=4.656435, actual=4.610158\n",
      "predicted=4.609756, actual=4.551242\n",
      "predicted=4.550810, actual=4.558079\n",
      "predicted=4.557650, actual=4.567987\n",
      "predicted=4.567564, actual=4.629863\n",
      "predicted=4.629472, actual=4.631325\n",
      "predicted=4.630935, actual=4.648230\n",
      "predicted=4.647848, actual=4.652054\n",
      "predicted=4.651675, actual=4.642466\n",
      "predicted=4.642082, actual=4.619073\n",
      "predicted=4.618677, actual=4.599655\n",
      "predicted=4.599250, actual=4.587515\n",
      "predicted=4.587104, actual=4.612642\n",
      "predicted=4.612244, actual=4.620551\n",
      "predicted=4.620157, actual=4.639088\n",
      "predicted=4.638704, actual=4.691348\n",
      "predicted=4.690990, actual=4.691807\n",
      "predicted=4.691449, actual=4.657288\n",
      "predicted=4.656914, actual=4.672361\n",
      "predicted=4.671995, actual=4.678421\n",
      "predicted=4.678057, actual=4.682131\n",
      "predicted=4.681770, actual=4.655388\n",
      "predicted=4.655013, actual=4.636669\n",
      "predicted=4.636285, actual=4.634243\n",
      "predicted=4.633858, actual=4.667206\n",
      "predicted=4.666837, actual=4.654436\n",
      "predicted=4.654062, actual=4.686289\n",
      "predicted=4.685931, actual=4.655388\n",
      "predicted=4.655014, actual=4.663911\n",
      "predicted=4.663542, actual=4.641984\n",
      "predicted=4.641604, actual=4.622027\n",
      "predicted=4.621637, actual=4.667675\n",
      "predicted=4.667309, actual=4.661078\n",
      "predicted=4.660708, actual=4.641020\n",
      "predicted=4.640640, actual=4.650621\n",
      "predicted=4.650247, actual=4.727830\n",
      "predicted=4.727495, actual=4.713576\n",
      "predicted=4.713234, actual=4.748404\n",
      "predicted=4.748080, actual=4.760463\n",
      "predicted=4.760145, actual=4.779963\n",
      "predicted=4.779655, actual=4.819071\n",
      "predicted=4.818783, actual=4.806477\n",
      "predicted=4.806182, actual=4.831110\n",
      "predicted=4.830828, actual=4.876342\n",
      "predicted=4.876083, actual=4.825109\n",
      "predicted=4.824824, actual=4.816646\n",
      "predicted=4.816357, actual=4.833102\n",
      "predicted=4.832822, actual=4.829513\n",
      "predicted=4.829231, actual=4.801559\n",
      "predicted=4.801263, actual=4.794964\n",
      "predicted=4.794665, actual=4.797442\n",
      "predicted=4.797144, actual=4.844974\n",
      "predicted=4.844700, actual=4.926529\n",
      "predicted=4.926296, actual=4.971548\n",
      "predicted=4.971338, actual=4.961445\n",
      "predicted=4.961230, actual=4.964242\n",
      "predicted=4.964029, actual=4.968423\n",
      "predicted=4.968212, actual=5.012633\n",
      "predicted=5.012444, actual=5.022893\n",
      "predicted=5.022709, actual=4.995860\n",
      "predicted=4.995663, actual=5.006627\n",
      "predicted=5.006435, actual=4.957938\n",
      "predicted=4.957722, actual=4.942356\n",
      "predicted=4.942133, actual=4.964940\n",
      "predicted=4.964728, actual=4.971894\n",
      "predicted=4.971686, actual=5.000922\n",
      "predicted=5.000727, actual=4.999911\n",
      "predicted=4.999717, actual=5.020256\n",
      "predicted=5.020071, actual=4.994845\n",
      "predicted=4.994648, actual=4.996536\n",
      "predicted=4.996340, actual=4.923260\n",
      "predicted=4.923028, actual=4.891101\n",
      "predicted=4.890853, actual=4.878246\n",
      "predicted=4.877992, actual=4.810557\n",
      "predicted=4.810269, actual=4.846154\n",
      "predicted=4.845884, actual=4.889221\n",
      "predicted=4.888972, actual=4.880527\n",
      "predicted=4.880274, actual=4.892602\n",
      "predicted=4.892356, actual=4.894101\n",
      "predicted=4.893856, actual=4.897093\n",
      "predicted=4.896849, actual=4.975008\n",
      "predicted=4.974803, actual=4.948760\n",
      "predicted=4.948541, actual=4.948405\n",
      "predicted=4.948187, actual=4.930509\n",
      "predicted=4.930282, actual=4.911919\n",
      "predicted=4.911683, actual=4.898586\n",
      "predicted=4.898343, actual=4.872905\n",
      "predicted=4.872649, actual=4.843793\n",
      "predicted=4.843524, actual=4.850075\n",
      "predicted=4.849809, actual=4.853981\n",
      "predicted=4.853717, actual=4.864838\n",
      "predicted=4.864580, actual=4.869456\n"
     ]
    },
    {
     "name": "stderr",
     "output_type": "stream",
     "text": [
      "C:\\Users\\HP\\anaconda3\\shreyansh data  science\\lib\\site-packages\\statsmodels\\base\\model.py:566: ConvergenceWarning: Maximum Likelihood optimization failed to converge. Check mle_retvals\n",
      "  warnings.warn(\"Maximum Likelihood optimization failed to \"\n"
     ]
    },
    {
     "name": "stdout",
     "output_type": "stream",
     "text": [
      "predicted=4.869199, actual=4.894101\n",
      "predicted=4.893857, actual=4.919981\n",
      "predicted=4.919750, actual=4.895598\n",
      "predicted=4.895355, actual=4.910078\n",
      "predicted=4.909842, actual=4.903792\n",
      "predicted=4.903553, actual=4.882044\n",
      "predicted=4.881795, actual=4.887714\n",
      "predicted=4.887467, actual=4.889221\n",
      "predicted=4.888975, actual=4.898586\n",
      "predicted=4.898345, actual=4.911919\n",
      "predicted=4.911685, actual=4.924714\n",
      "predicted=4.924486, actual=4.934474\n",
      "predicted=4.934251, actual=4.948760\n",
      "predicted=4.948544, actual=4.983607\n",
      "predicted=4.983408, actual=5.016949\n",
      "predicted=5.016766, actual=5.018603\n",
      "predicted=5.018422, actual=4.986001\n",
      "predicted=4.985804, actual=5.002939\n",
      "predicted=5.002750, actual=5.062595\n",
      "predicted=5.062435, actual=5.156178\n",
      "predicted=5.156063, actual=5.123666\n",
      "predicted=5.123536, actual=5.130490\n",
      "predicted=5.130364, actual=5.139908\n",
      "predicted=5.139786, actual=5.147785\n",
      "predicted=5.147667, actual=5.144292\n",
      "predicted=5.144172, actual=5.157617\n",
      "predicted=5.157504, actual=5.194899\n",
      "predicted=5.194805, actual=5.191567\n",
      "predicted=5.191471, actual=5.212760\n",
      "predicted=5.212673, actual=5.219545\n",
      "predicted=5.219462, actual=5.215751\n",
      "predicted=5.215666, actual=5.212487\n",
      "predicted=5.212401, actual=5.202907\n",
      "predicted=5.202816, actual=5.207845\n",
      "predicted=5.207757, actual=5.179534\n",
      "predicted=5.179432, actual=5.186547\n",
      "predicted=5.186449, actual=5.179815\n",
      "predicted=5.179714, actual=5.186827\n",
      "predicted=5.186729, actual=5.207024\n",
      "predicted=5.206936, actual=5.202357\n",
      "predicted=5.202266, actual=5.196008\n",
      "predicted=5.195914, actual=5.103214\n",
      "predicted=5.103076, actual=5.105642\n"
     ]
    },
    {
     "name": "stderr",
     "output_type": "stream",
     "text": [
      "C:\\Users\\HP\\anaconda3\\shreyansh data  science\\lib\\site-packages\\statsmodels\\base\\model.py:566: ConvergenceWarning: Maximum Likelihood optimization failed to converge. Check mle_retvals\n",
      "  warnings.warn(\"Maximum Likelihood optimization failed to \"\n",
      "C:\\Users\\HP\\anaconda3\\shreyansh data  science\\lib\\site-packages\\statsmodels\\base\\model.py:566: ConvergenceWarning: Maximum Likelihood optimization failed to converge. Check mle_retvals\n",
      "  warnings.warn(\"Maximum Likelihood optimization failed to \"\n"
     ]
    },
    {
     "name": "stdout",
     "output_type": "stream",
     "text": [
      "predicted=5.105505, actual=5.131081\n",
      "predicted=5.130957, actual=5.170200\n",
      "predicted=5.170094, actual=5.227627\n",
      "predicted=5.227548, actual=5.211942\n",
      "predicted=5.211856, actual=5.215751\n",
      "predicted=5.215667, actual=5.214120\n",
      "predicted=5.214036, actual=5.228431\n",
      "predicted=5.228353, actual=5.253843\n",
      "predicted=5.253777, actual=5.263726\n",
      "predicted=5.263665, actual=5.275049\n",
      "predicted=5.274993, actual=5.281934\n",
      "predicted=5.281882, actual=5.289024\n",
      "predicted=5.288976, actual=5.396578\n",
      "predicted=5.396581, actual=5.471430\n",
      "predicted=5.471469, actual=5.491414\n",
      "predicted=5.491462, actual=5.501666\n",
      "predicted=5.501720, actual=5.561835\n",
      "predicted=5.561917, actual=5.505128\n",
      "predicted=5.505183, actual=5.555476\n",
      "predicted=5.555555, actual=5.616407\n",
      "predicted=5.616515, actual=5.671948\n",
      "predicted=5.672082, actual=5.667637\n",
      "predicted=5.667769, actual=5.631749\n",
      "predicted=5.631864, actual=5.589120\n",
      "predicted=5.589214, actual=5.586499\n",
      "predicted=5.586593, actual=5.571013\n",
      "predicted=5.571099, actual=5.633360\n",
      "predicted=5.633476, actual=5.774552\n",
      "predicted=5.774734, actual=5.802118\n",
      "predicted=5.802314, actual=5.787357\n",
      "predicted=5.787546, actual=5.755426\n",
      "predicted=5.755599, actual=5.816962\n",
      "predicted=5.817165, actual=5.783979\n",
      "predicted=5.784166, actual=5.795754\n",
      "predicted=5.795946, actual=5.783825\n",
      "predicted=5.784012, actual=5.785055\n",
      "predicted=5.785242, actual=5.809193\n",
      "predicted=5.809391, actual=5.796666\n",
      "predicted=5.796858, actual=5.799547\n",
      "predicted=5.799741, actual=5.780280\n",
      "predicted=5.780465, actual=5.742522\n",
      "predicted=5.742689, actual=5.718671\n",
      "predicted=5.718826, actual=5.780744\n",
      "predicted=5.780928, actual=5.773464\n",
      "predicted=5.773645, actual=5.808593\n",
      "predicted=5.808790, actual=5.777498\n",
      "predicted=5.777680, actual=5.793928\n",
      "predicted=5.794118, actual=5.845716\n",
      "predicted=5.845931, actual=5.853638\n",
      "predicted=5.853857, actual=5.826590\n",
      "predicted=5.826795, actual=5.784287\n",
      "predicted=5.784472, actual=5.772220\n",
      "predicted=5.772399, actual=5.753207\n",
      "predicted=5.753378, actual=5.772842\n",
      "predicted=5.773022, actual=5.760635\n",
      "predicted=5.760809, actual=5.763779\n",
      "predicted=5.763955, actual=5.768165\n",
      "predicted=5.768342, actual=5.722931\n",
      "predicted=5.723087, actual=5.726848\n",
      "predicted=5.727006, actual=5.733179\n",
      "predicted=5.733340, actual=5.713898\n",
      "predicted=5.714049, actual=5.728150\n",
      "predicted=5.728308, actual=5.685109\n",
      "predicted=5.685247, actual=5.654417\n",
      "predicted=5.654541, actual=5.691710\n",
      "predicted=5.691851, actual=5.693900\n",
      "predicted=5.694042, actual=5.709765\n",
      "predicted=5.709914, actual=5.729288\n",
      "predicted=5.729446, actual=5.720476\n",
      "predicted=5.720630, actual=5.729288\n",
      "predicted=5.729446, actual=5.729450\n",
      "predicted=5.729608, actual=5.749234\n",
      "predicted=5.749401, actual=5.762680\n",
      "predicted=5.762854, actual=5.657913\n",
      "predicted=5.658038, actual=5.713238\n",
      "predicted=5.713388, actual=5.715382\n",
      "predicted=5.715533, actual=5.736572\n",
      "predicted=5.736733, actual=5.708438\n",
      "predicted=5.708586, actual=5.697261\n",
      "predicted=5.697404, actual=5.685449\n",
      "predicted=5.685586, actual=5.683580\n",
      "predicted=5.683716, actual=5.688330\n",
      "predicted=5.688469, actual=5.708770\n",
      "predicted=5.708918, actual=5.723258\n",
      "predicted=5.723413, actual=5.710096\n",
      "predicted=5.710244, actual=5.683069\n",
      "predicted=5.683205, actual=5.680173\n",
      "predicted=5.680307, actual=5.667983\n",
      "predicted=5.668111, actual=5.675040\n",
      "predicted=5.675172, actual=5.707940\n",
      "predicted=5.708087, actual=5.712907\n",
      "predicted=5.713056, actual=5.752096\n",
      "predicted=5.752263, actual=5.754317\n",
      "predicted=5.754485, actual=5.786897\n",
      "predicted=5.787080, actual=5.743804\n",
      "predicted=5.743967, actual=5.771753\n",
      "predicted=5.771928, actual=5.806490\n",
      "predicted=5.806681, actual=5.750825\n",
      "predicted=5.750991, actual=5.729125\n",
      "predicted=5.729281, actual=5.746523\n",
      "predicted=5.746687, actual=5.742522\n",
      "predicted=5.742684, actual=5.753366\n",
      "predicted=5.753533, actual=5.754159\n",
      "predicted=5.754326, actual=5.763936\n",
      "predicted=5.764108, actual=5.764407\n",
      "predicted=5.764579, actual=5.764407\n",
      "predicted=5.764579, actual=5.762366\n"
     ]
    },
    {
     "name": "stderr",
     "output_type": "stream",
     "text": [
      "C:\\Users\\HP\\anaconda3\\shreyansh data  science\\lib\\site-packages\\statsmodels\\base\\model.py:566: ConvergenceWarning: Maximum Likelihood optimization failed to converge. Check mle_retvals\n",
      "  warnings.warn(\"Maximum Likelihood optimization failed to \"\n"
     ]
    },
    {
     "name": "stdout",
     "output_type": "stream",
     "text": [
      "predicted=5.762536, actual=5.777652\n",
      "predicted=5.777830, actual=5.785823\n",
      "predicted=5.786004, actual=5.813981\n",
      "predicted=5.814175, actual=5.844993\n",
      "predicted=5.845201, actual=5.865760\n",
      "predicted=5.865977, actual=5.838750\n",
      "predicted=5.838955, actual=5.842820\n",
      "predicted=5.843026, actual=5.860074\n",
      "predicted=5.860288, actual=5.874790\n",
      "predicted=5.875012, actual=5.865618\n",
      "predicted=5.865835, actual=5.856074\n",
      "predicted=5.856287, actual=5.845427\n",
      "predicted=5.845634, actual=5.821269\n",
      "predicted=5.821466, actual=5.812039\n",
      "predicted=5.812231, actual=5.822750\n",
      "predicted=5.822947, actual=5.814877\n",
      "predicted=5.815070, actual=5.813085\n",
      "predicted=5.813278, actual=5.827916\n",
      "predicted=5.828115, actual=5.837147\n",
      "predicted=5.837350, actual=5.833494\n",
      "predicted=5.833695, actual=5.827768\n",
      "predicted=5.827967, actual=5.841368\n",
      "predicted=5.841573, actual=5.843255\n",
      "predicted=5.843460, actual=5.846728\n",
      "predicted=5.846935, actual=5.758586\n",
      "predicted=5.758753, actual=5.759217\n",
      "predicted=5.759384, actual=5.724728\n",
      "predicted=5.724880, actual=5.724565\n",
      "predicted=5.724716, actual=5.728313\n",
      "predicted=5.728466, actual=5.739632\n",
      "predicted=5.739790, actual=5.735120\n",
      "predicted=5.735276, actual=5.737378\n",
      "predicted=5.737535, actual=5.740596\n",
      "predicted=5.740755, actual=5.732856\n",
      "predicted=5.733010, actual=5.710924\n",
      "predicted=5.711068, actual=5.712247\n",
      "predicted=5.712392, actual=5.688838\n",
      "predicted=5.688973, actual=5.680684\n",
      "predicted=5.680815, actual=5.674697\n",
      "predicted=5.674825, actual=5.650558\n",
      "predicted=5.650675, actual=5.679831\n",
      "predicted=5.679962, actual=5.683410\n",
      "predicted=5.683542, actual=5.693227\n",
      "predicted=5.693363, actual=5.716040\n",
      "predicted=5.716187, actual=5.697597\n",
      "predicted=5.697735, actual=5.702782\n",
      "predicted=5.702922, actual=5.703949\n",
      "predicted=5.704090, actual=5.697429\n",
      "predicted=5.697567, actual=5.684260\n",
      "predicted=5.684392, actual=5.688500\n",
      "predicted=5.688633, actual=5.723585\n",
      "predicted=5.723734, actual=5.727662\n",
      "predicted=5.727813, actual=5.716040\n",
      "predicted=5.716186, actual=5.696086\n",
      "predicted=5.696223, actual=5.681366\n",
      "predicted=5.681497, actual=5.645800\n",
      "predicted=5.645914, actual=5.623837\n",
      "predicted=5.623941, actual=5.634075\n",
      "predicted=5.634184, actual=5.650382\n",
      "predicted=5.650498, actual=5.650030\n",
      "predicted=5.650146, actual=5.655117\n",
      "predicted=5.655235, actual=5.676583\n",
      "predicted=5.676710, actual=5.660527\n",
      "predicted=5.660647, actual=5.687822\n",
      "predicted=5.687955, actual=5.680684\n",
      "predicted=5.680814, actual=5.688838\n",
      "predicted=5.688971, actual=5.695246\n",
      "predicted=5.695382, actual=5.685619\n",
      "predicted=5.685750, actual=5.687822\n",
      "predicted=5.687955, actual=5.700276\n",
      "predicted=5.700414, actual=5.707775\n",
      "predicted=5.707916, actual=5.723912\n",
      "predicted=5.724060, actual=5.742843\n",
      "predicted=5.742999, actual=5.741881\n",
      "predicted=5.742037, actual=5.732046\n",
      "predicted=5.732197, actual=5.700276\n",
      "predicted=5.700414, actual=5.710261\n",
      "predicted=5.710403, actual=5.736895\n",
      "predicted=5.737048, actual=5.772998\n",
      "predicted=5.773167, actual=5.761894\n",
      "predicted=5.762059, actual=5.804080\n",
      "predicted=5.804263, actual=5.796969\n",
      "predicted=5.797149, actual=5.799850\n",
      "predicted=5.800031, actual=5.809193\n",
      "predicted=5.809378, actual=5.809043\n",
      "predicted=5.809228, actual=5.834811\n",
      "predicted=5.835007, actual=5.843400\n",
      "predicted=5.843599, actual=5.817260\n",
      "predicted=5.817448, actual=5.930918\n",
      "predicted=5.931156, actual=5.947904\n",
      "predicted=5.948150, actual=6.030084\n",
      "predicted=6.030366, actual=6.042276\n",
      "predicted=6.042563, actual=6.228314\n",
      "predicted=6.228682, actual=6.209797\n",
      "predicted=6.210157, actual=6.233626\n",
      "predicted=6.233997, actual=6.177737\n",
      "predicted=6.178082, actual=6.188059\n",
      "predicted=6.188409, actual=6.230481\n",
      "predicted=6.230850, actual=6.196240\n",
      "predicted=6.196594, actual=6.173578\n",
      "predicted=6.173921, actual=6.231760\n",
      "predicted=6.232129, actual=6.210399\n",
      "predicted=6.210759, actual=6.175971\n",
      "predicted=6.176315, actual=6.181465\n",
      "predicted=6.181811, actual=6.185591\n",
      "predicted=6.185939, actual=6.190008\n",
      "predicted=6.190358, actual=6.183943\n",
      "predicted=6.184290, actual=6.193793\n",
      "predicted=6.194144, actual=6.217404\n",
      "predicted=6.217765, actual=6.233724\n",
      "predicted=6.234092, actual=6.235880\n",
      "predicted=6.236249, actual=6.221484\n",
      "predicted=6.221847, actual=6.228610\n",
      "predicted=6.228975, actual=6.225449\n",
      "predicted=6.225813, actual=6.252000\n",
      "predicted=6.252376, actual=6.273160\n",
      "predicted=6.273544, actual=6.233822\n",
      "predicted=6.234189, actual=6.186414\n",
      "predicted=6.186761, actual=6.205567\n",
      "predicted=6.205922, actual=6.191646\n",
      "predicted=6.191995, actual=6.200002\n",
      "predicted=6.200354, actual=6.131661\n",
      "predicted=6.131983, actual=6.134374\n",
      "predicted=6.134697, actual=6.128178\n",
      "predicted=6.128499, actual=6.163841\n",
      "predicted=6.164176, actual=6.171909\n",
      "predicted=6.172248, actual=6.173994\n",
      "predicted=6.174334, actual=6.146757\n",
      "predicted=6.147085, actual=6.177529\n",
      "predicted=6.177870, actual=6.202333\n",
      "predicted=6.202684, actual=6.202434\n",
      "predicted=6.202786, actual=6.203446\n",
      "predicted=6.203798, actual=6.205265\n",
      "predicted=6.205617, actual=6.193180\n",
      "predicted=6.193527, actual=6.197767\n"
     ]
    },
    {
     "name": "stderr",
     "output_type": "stream",
     "text": [
      "C:\\Users\\HP\\anaconda3\\shreyansh data  science\\lib\\site-packages\\statsmodels\\base\\model.py:566: ConvergenceWarning: Maximum Likelihood optimization failed to converge. Check mle_retvals\n",
      "  warnings.warn(\"Maximum Likelihood optimization failed to \"\n"
     ]
    },
    {
     "name": "stdout",
     "output_type": "stream",
     "text": [
      "predicted=6.198116, actual=6.198377\n",
      "predicted=6.198726, actual=6.153158\n",
      "predicted=6.153487, actual=6.102670\n",
      "predicted=6.102978, actual=6.117216\n",
      "predicted=6.117529, actual=6.153796\n",
      "predicted=6.154125, actual=6.157720\n",
      "predicted=6.158051, actual=6.147613\n",
      "predicted=6.147939, actual=6.155177\n",
      "predicted=6.155506, actual=6.174203\n",
      "predicted=6.174540, actual=6.165418\n",
      "predicted=6.165751, actual=6.153583\n",
      "predicted=6.153911, actual=6.178774\n",
      "predicted=6.179112, actual=6.209797\n",
      "predicted=6.210148, actual=6.193589\n",
      "predicted=6.193934, actual=6.193895\n",
      "predicted=6.194240, actual=6.192056\n",
      "predicted=6.192400, actual=6.195629\n",
      "predicted=6.195974, actual=6.221981\n",
      "predicted=6.222337, actual=6.217205\n",
      "predicted=6.217559, actual=6.229004\n",
      "predicted=6.229363, actual=6.238227\n",
      "predicted=6.238590, actual=6.234215\n",
      "predicted=6.234576, actual=6.263398\n",
      "predicted=6.263772, actual=6.235978\n",
      "predicted=6.236340, actual=6.255462\n",
      "predicted=6.255832, actual=6.245525\n",
      "predicted=6.245890, actual=6.218301\n",
      "predicted=6.218655, actual=6.170552\n",
      "predicted=6.170885, actual=6.195527\n",
      "predicted=6.195871, actual=6.203345\n",
      "predicted=6.203692, actual=6.209193\n",
      "predicted=6.209542, actual=6.249493\n",
      "predicted=6.249858, actual=6.223171\n",
      "predicted=6.223526, actual=6.227327\n",
      "predicted=6.227683, actual=6.223568\n",
      "predicted=6.223922, actual=6.215807\n",
      "predicted=6.216158, actual=6.203749\n",
      "predicted=6.204095, actual=6.200002\n",
      "predicted=6.200346, actual=6.217105\n",
      "predicted=6.217456, actual=6.229398\n",
      "predicted=6.229754, actual=6.212305\n",
      "predicted=6.212654, actual=6.155813\n",
      "predicted=6.156138, actual=6.222576\n",
      "predicted=6.222929, actual=6.211503\n",
      "predicted=6.211851, actual=6.214508\n",
      "predicted=6.214857, actual=6.200813\n",
      "predicted=6.201157, actual=6.203446\n",
      "predicted=6.203790, actual=6.170134\n",
      "predicted=6.170464, actual=6.167516\n",
      "predicted=6.167845, actual=6.059006\n",
      "predicted=6.059289, actual=6.130683\n",
      "predicted=6.130996, actual=6.118207\n",
      "predicted=6.118515, actual=6.103900\n",
      "predicted=6.104201, actual=6.080162\n",
      "predicted=6.080453, actual=6.033686\n",
      "predicted=6.033957, actual=5.976351\n",
      "predicted=5.976598, actual=5.970624\n",
      "predicted=5.970868, actual=6.006107\n",
      "predicted=6.006366, actual=6.039302\n",
      "predicted=6.039575, actual=6.035840\n",
      "predicted=6.036112, actual=6.020295\n",
      "predicted=6.020560, actual=6.025020\n",
      "predicted=6.025287, actual=6.051854\n",
      "predicted=6.052132, actual=6.072584\n",
      "predicted=6.072870, actual=6.059006\n",
      "predicted=6.059287, actual=6.087570\n",
      "predicted=6.087863, actual=6.077183\n",
      "predicted=6.077472, actual=6.071200\n",
      "predicted=6.071485, actual=6.068657\n",
      "predicted=6.068942, actual=6.070045\n",
      "predicted=6.070330, actual=6.072353\n",
      "predicted=6.072639, actual=6.076839\n",
      "predicted=6.077127, actual=6.072468\n",
      "predicted=6.072754, actual=6.089385\n",
      "predicted=6.089677, actual=6.101999\n",
      "predicted=6.102297, actual=6.126978\n",
      "predicted=6.127286, actual=6.122822\n",
      "predicted=6.123128, actual=6.108136\n",
      "predicted=6.108436, actual=6.113793\n",
      "predicted=6.114095, actual=6.113793\n",
      "predicted=6.114095, actual=6.082904\n",
      "predicted=6.083193, actual=6.066224\n",
      "predicted=6.066506, actual=6.072584\n",
      "predicted=6.072868, actual=6.051972\n",
      "predicted=6.052247, actual=6.088024\n",
      "predicted=6.088315, actual=6.104905\n",
      "predicted=6.105202, actual=6.084158\n",
      "predicted=6.084446, actual=6.052442\n",
      "predicted=6.052718, actual=6.075116\n",
      "predicted=6.075401, actual=6.064366\n",
      "predicted=6.064647, actual=6.077757\n",
      "predicted=6.078043, actual=6.081305\n",
      "predicted=6.081592, actual=6.070391\n",
      "predicted=6.070674, actual=6.048554\n",
      "predicted=6.048827, actual=6.055143\n",
      "predicted=6.055419, actual=6.012614\n",
      "predicted=6.012872, actual=6.001291\n",
      "predicted=6.001544, actual=5.970624\n",
      "predicted=5.970864, actual=5.961392\n",
      "predicted=5.961628, actual=5.919700\n",
      "predicted=5.919919, actual=6.002157\n",
      "predicted=6.002410, actual=6.004751\n",
      "predicted=6.005005, actual=6.050087\n",
      "predicted=6.050360, actual=6.028640\n",
      "predicted=6.028904, actual=5.988084\n",
      "predicted=5.988331, actual=6.035481\n",
      "predicted=6.035748, actual=6.043701\n",
      "predicted=6.043971, actual=6.053852\n",
      "predicted=6.054126, actual=6.033086\n",
      "predicted=6.033351, actual=6.041801\n",
      "predicted=6.042070, actual=6.062855\n",
      "predicted=6.063132, actual=6.092214\n",
      "predicted=6.092504, actual=6.094811\n",
      "predicted=6.095101, actual=6.097175\n",
      "predicted=6.097466, actual=6.084841\n",
      "predicted=6.085127, actual=6.068194\n",
      "predicted=6.068473, actual=6.069235\n",
      "predicted=6.069515, actual=6.077298\n",
      "predicted=6.077580, actual=6.076839\n",
      "predicted=6.077121, actual=6.060291\n",
      "predicted=6.060566, actual=6.059240\n",
      "predicted=6.059515, actual=6.008076\n",
      "predicted=6.008329, actual=6.004257\n",
      "predicted=6.004509, actual=6.026108\n",
      "predicted=6.026368, actual=5.973682\n",
      "predicted=5.973921, actual=5.963451\n",
      "predicted=5.963686, actual=5.947251\n",
      "predicted=5.947479, actual=5.985446\n",
      "predicted=5.985690, actual=5.974064\n",
      "predicted=5.974303, actual=6.009304\n",
      "predicted=6.009558, actual=6.014448\n",
      "predicted=6.014703, actual=6.027073\n",
      "predicted=6.027333, actual=6.033326\n",
      "predicted=6.033589, actual=6.032966\n",
      "predicted=6.033229, actual=6.020538\n",
      "predicted=6.020795, actual=6.022721\n",
      "predicted=6.022979, actual=6.012370\n",
      "predicted=6.012623, actual=6.021023\n",
      "predicted=6.021280, actual=6.031526\n",
      "predicted=6.031787, actual=6.065760\n",
      "predicted=6.066035, actual=6.090291\n",
      "predicted=6.090576, actual=6.080048\n",
      "predicted=6.080328, actual=6.065063\n",
      "predicted=6.065338, actual=6.057018\n",
      "predicted=6.057289, actual=6.059240\n",
      "predicted=6.059512, actual=6.087229\n",
      "Test RMSE: 0.034\n"
     ]
    }
   ],
   "source": [
    "from sklearn.metrics import mean_squared_error\n",
    "\n",
    "x = y.values\n",
    "train_size = int(len(x) * 0.7)\n",
    "train, test = x[0:train_size], x[train_size:]\n",
    "history = [x for x in train]\n",
    "predictions = []\n",
    "for t in range(len(test)):\n",
    "    model = ARIMA(history, order=(p, d, q))\n",
    "    model_fit = model.fit(disp=0)\n",
    "    output = model_fit.forecast()\n",
    "    yhat = output[0][0]\n",
    "    predictions.append(yhat)\n",
    "    obs = test[t]\n",
    "    history.append(obs)\n",
    "    print('predicted=%f, actual=%f' % (yhat, obs))\n",
    "error = mean_squared_error(test, predictions)\n",
    "print('Test RMSE: %.3f' % np.sqrt(error))"
   ]
  },
  {
   "cell_type": "code",
   "execution_count": 31,
   "metadata": {
    "colab": {
     "base_uri": "https://localhost:8080/"
    },
    "id": "-vwT4VT1vFir",
    "outputId": "16aaebe5-4cfe-480c-bafb-e3b4dafc5a5a"
   },
   "outputs": [
    {
     "name": "stdout",
     "output_type": "stream",
     "text": [
      "Test RMSE: 0.034\n"
     ]
    }
   ],
   "source": [
    "print('Test RMSE: %.3f' % np.sqrt(error))"
   ]
  },
  {
   "cell_type": "markdown",
   "metadata": {
    "id": "fhtoD4FbooyL"
   },
   "source": []
  },
  {
   "cell_type": "code",
   "execution_count": 32,
   "metadata": {
    "colab": {
     "base_uri": "https://localhost:8080/",
     "height": 455
    },
    "id": "hod05r2Q2Xbw",
    "outputId": "3dc46714-b49f-4f5c-9bee-39cd1128049a"
   },
   "outputs": [
    {
     "data": {
      "text/html": [
       "<div>\n",
       "<style scoped>\n",
       "    .dataframe tbody tr th:only-of-type {\n",
       "        vertical-align: middle;\n",
       "    }\n",
       "\n",
       "    .dataframe tbody tr th {\n",
       "        vertical-align: top;\n",
       "    }\n",
       "\n",
       "    .dataframe thead th {\n",
       "        text-align: right;\n",
       "    }\n",
       "</style>\n",
       "<table border=\"1\" class=\"dataframe\">\n",
       "  <thead>\n",
       "    <tr style=\"text-align: right;\">\n",
       "      <th></th>\n",
       "      <th>actual</th>\n",
       "      <th>prediction</th>\n",
       "    </tr>\n",
       "    <tr>\n",
       "      <th>Date</th>\n",
       "      <th></th>\n",
       "      <th></th>\n",
       "    </tr>\n",
       "  </thead>\n",
       "  <tbody>\n",
       "    <tr>\n",
       "      <th>2019-07-24</th>\n",
       "      <td>151.250000</td>\n",
       "      <td>156.169261</td>\n",
       "    </tr>\n",
       "    <tr>\n",
       "      <th>2019-07-25</th>\n",
       "      <td>144.300003</td>\n",
       "      <td>151.217431</td>\n",
       "    </tr>\n",
       "    <tr>\n",
       "      <th>2019-07-26</th>\n",
       "      <td>147.149994</td>\n",
       "      <td>144.265015</td>\n",
       "    </tr>\n",
       "    <tr>\n",
       "      <th>2019-07-29</th>\n",
       "      <td>137.550003</td>\n",
       "      <td>147.116002</td>\n",
       "    </tr>\n",
       "    <tr>\n",
       "      <th>2019-07-30</th>\n",
       "      <td>133.449997</td>\n",
       "      <td>137.512875</td>\n",
       "    </tr>\n",
       "    <tr>\n",
       "      <th>...</th>\n",
       "      <td>...</td>\n",
       "      <td>...</td>\n",
       "    </tr>\n",
       "    <tr>\n",
       "      <th>2022-07-11</th>\n",
       "      <td>437.049988</td>\n",
       "      <td>441.675819</td>\n",
       "    </tr>\n",
       "    <tr>\n",
       "      <th>2022-07-12</th>\n",
       "      <td>430.549988</td>\n",
       "      <td>437.172664</td>\n",
       "    </tr>\n",
       "    <tr>\n",
       "      <th>2022-07-13</th>\n",
       "      <td>427.100006</td>\n",
       "      <td>430.668166</td>\n",
       "    </tr>\n",
       "    <tr>\n",
       "      <th>2022-07-14</th>\n",
       "      <td>428.049988</td>\n",
       "      <td>427.215792</td>\n",
       "    </tr>\n",
       "    <tr>\n",
       "      <th>2022-07-15</th>\n",
       "      <td>440.200012</td>\n",
       "      <td>428.166371</td>\n",
       "    </tr>\n",
       "  </tbody>\n",
       "</table>\n",
       "<p>739 rows × 2 columns</p>\n",
       "</div>"
      ],
      "text/plain": [
       "                actual  prediction\n",
       "Date                              \n",
       "2019-07-24  151.250000  156.169261\n",
       "2019-07-25  144.300003  151.217431\n",
       "2019-07-26  147.149994  144.265015\n",
       "2019-07-29  137.550003  147.116002\n",
       "2019-07-30  133.449997  137.512875\n",
       "...                ...         ...\n",
       "2022-07-11  437.049988  441.675819\n",
       "2022-07-12  430.549988  437.172664\n",
       "2022-07-13  427.100006  430.668166\n",
       "2022-07-14  428.049988  427.215792\n",
       "2022-07-15  440.200012  428.166371\n",
       "\n",
       "[739 rows x 2 columns]"
      ]
     },
     "execution_count": 32,
     "metadata": {},
     "output_type": "execute_result"
    }
   ],
   "source": [
    "result = pd.DataFrame(np.exp(y))[train_size:]\n",
    "result.columns = [\"actual\"]\n",
    "result[\"prediction\"] = np.exp(predictions)\n",
    "result"
   ]
  },
  {
   "cell_type": "code",
   "execution_count": 33,
   "metadata": {
    "colab": {
     "base_uri": "https://localhost:8080/",
     "height": 445
    },
    "id": "SI5lrX-l2JSn",
    "outputId": "5322ca1f-bc75-474d-998b-8686839bbd2b"
   },
   "outputs": [
    {
     "data": {
      "image/png": "[encoded data removed]",
      "text/plain": [
       "<Figure size 1296x504 with 1 Axes>"
      ]
     },
     "metadata": {
      "needs_background": "light"
     },
     "output_type": "display_data"
    }
   ],
   "source": [
    "plt.figure(figsize=(18,7))\n",
    "fig=plt.figure(1)\n",
    "plt.plot(result[\"actual\"],color='blue',label='Actual')\n",
    "plt.plot(result[\"prediction\"], color='red', label='Predicted')\n",
    "plt.legend(loc = 'best')\n",
    "plt.title('Actual VS Predicted')\n",
    "plt.show(block = False)"
   ]
  },
  {
   "cell_type": "code",
   "execution_count": 34,
   "metadata": {
    "colab": {
     "base_uri": "https://localhost:8080/"
    },
    "id": "v_mK144Z6aoi",
    "outputId": "1d00c036-a948-48cc-e5e8-1f8c87b03401"
   },
   "outputs": [
    {
     "name": "stderr",
     "output_type": "stream",
     "text": [
      "C:\\Users\\HP\\anaconda3\\shreyansh data  science\\lib\\site-packages\\statsmodels\\tsa\\arima_model.py:472: FutureWarning: \n",
      "statsmodels.tsa.arima_model.ARMA and statsmodels.tsa.arima_model.ARIMA have\n",
      "been deprecated in favor of statsmodels.tsa.arima.model.ARIMA (note the .\n",
      "between arima and model) and\n",
      "statsmodels.tsa.SARIMAX. These will be removed after the 0.12 release.\n",
      "\n",
      "statsmodels.tsa.arima.model.ARIMA makes use of the statespace framework and\n",
      "is both well tested and maintained.\n",
      "\n",
      "To silence this warning and continue using ARMA and ARIMA until they are\n",
      "removed, use:\n",
      "\n",
      "import warnings\n",
      "warnings.filterwarnings('ignore', 'statsmodels.tsa.arima_model.ARMA',\n",
      "                        FutureWarning)\n",
      "warnings.filterwarnings('ignore', 'statsmodels.tsa.arima_model.ARIMA',\n",
      "                        FutureWarning)\n",
      "\n",
      "  warnings.warn(ARIMA_DEPRECATION_WARN, FutureWarning)\n",
      "C:\\Users\\HP\\anaconda3\\shreyansh data  science\\lib\\site-packages\\statsmodels\\tsa\\base\\tsa_model.py:581: ValueWarning: A date index has been provided, but it has no associated frequency information and so will be ignored when e.g. forecasting.\n",
      "  warnings.warn('A date index has been provided, but it has no'\n",
      "C:\\Users\\HP\\anaconda3\\shreyansh data  science\\lib\\site-packages\\statsmodels\\tsa\\base\\tsa_model.py:581: ValueWarning: A date index has been provided, but it has no associated frequency information and so will be ignored when e.g. forecasting.\n",
      "  warnings.warn('A date index has been provided, but it has no'\n"
     ]
    }
   ],
   "source": [
    "model = ARIMA(y, order=(0,1,0))\n",
    "model_fit = model.fit()"
   ]
  },
  {
   "cell_type": "code",
   "execution_count": 35,
   "metadata": {
    "colab": {
     "base_uri": "https://localhost:8080/"
    },
    "id": "Jo61rb531UJE",
    "outputId": "8ac48499-fbd7-4f22-c6e7-6b1970e717ff"
   },
   "outputs": [
    {
     "name": "stdout",
     "output_type": "stream",
     "text": [
      "Date\n",
      "2012-07-19    0.000283\n",
      "2012-07-20    0.000283\n",
      "2012-07-23    0.000283\n",
      "2012-07-24    0.000283\n",
      "2012-07-25    0.000283\n",
      "dtype: float64\n"
     ]
    }
   ],
   "source": [
    "predictions=pd.Series(model_fit.fittedvalues, copy=True)\n",
    "print(predictions.head())"
   ]
  },
  {
   "cell_type": "code",
   "execution_count": 36,
   "metadata": {
    "colab": {
     "base_uri": "https://localhost:8080/"
    },
    "id": "Y3mV8PWB2ACE",
    "outputId": "a30e62f0-92f3-45c7-fe47-2c1b13cbb1c4"
   },
   "outputs": [
    {
     "name": "stdout",
     "output_type": "stream",
     "text": [
      "Date\n",
      "2012-07-19    0.000283\n",
      "2012-07-20    0.000566\n",
      "2012-07-23    0.000849\n",
      "2012-07-24    0.001132\n",
      "2012-07-25    0.001416\n",
      "dtype: float64\n"
     ]
    }
   ],
   "source": [
    "predictions_cum_sum=predictions.cumsum()\n",
    "print(predictions_cum_sum.head())"
   ]
  },
  {
   "cell_type": "code",
   "execution_count": 37,
   "metadata": {
    "colab": {
     "base_uri": "https://localhost:8080/"
    },
    "id": "njxsdxn52DpI",
    "outputId": "1ff23308-67fd-414c-dc35-1076c875e0c7"
   },
   "outputs": [
    {
     "data": {
      "text/plain": [
       "Date\n",
       "2012-07-18    5.390205\n",
       "2012-07-19    5.404825\n",
       "2012-07-20    5.398861\n",
       "2012-07-23    5.365690\n",
       "2012-07-24    5.365047\n",
       "                ...   \n",
       "2022-07-11    6.775938\n",
       "2022-07-12    6.761237\n",
       "2022-07-13    6.753475\n",
       "2022-07-14    6.755980\n",
       "2022-07-15    6.784252\n",
       "Length: 2463, dtype: float64"
      ]
     },
     "execution_count": 37,
     "metadata": {},
     "output_type": "execute_result"
    }
   ],
   "source": [
    "predictions_log=pd.Series(y, index=y.index)\n",
    "predictions_log=predictions_log.add(predictions_cum_sum,fill_value=0)\n",
    "predictions_log"
   ]
  },
  {
   "cell_type": "code",
   "execution_count": 38,
   "metadata": {
    "colab": {
     "base_uri": "https://localhost:8080/",
     "height": 609
    },
    "id": "xZi67DoG2mwf",
    "outputId": "79fa7fd8-ec73-4fe3-fe84-2d63f1eb7a88"
   },
   "outputs": [
    {
     "data": {
      "image/png": "[encoded data removed]",
      "text/plain": [
       "<Figure size 1152x720 with 1 Axes>"
      ]
     },
     "metadata": {
      "needs_background": "light"
     },
     "output_type": "display_data"
    }
   ],
   "source": [
    "predictions_ARIMA=np.exp(predictions_log)\n",
    "plt.figure(figsize=(16,10))\n",
    "plt.plot(df[\"Close\"],color='blue',label='Actual')\n",
    "plt.plot(predictions_ARIMA,color='red', label='Predicted')\n",
    "plt.legend(loc = 'best')\n",
    "plt.title('Actual VS Predicted')\n",
    "plt.show(block = False)"
   ]
  },
  {
   "cell_type": "code",
   "execution_count": 39,
   "metadata": {
    "colab": {
     "base_uri": "https://localhost:8080/"
    },
    "id": "kzZ2tvlMv0Bn",
    "outputId": "b4bd5dd5-72af-46da-ea6f-96df0d4313c5"
   },
   "outputs": [
    {
     "data": {
      "text/plain": [
       "array([440.32465594, 440.44933496, 440.57404928, 440.69879892,\n",
       "       440.82358388, 440.94840417, 441.07325981, 441.1981508 ,\n",
       "       441.32307716])"
      ]
     },
     "execution_count": 39,
     "metadata": {},
     "output_type": "execute_result"
    }
   ],
   "source": [
    "forecast=model_fit.forecast(steps=9)[0]\n",
    "np.exp(forecast)"
   ]
  },
  {
   "cell_type": "code",
   "execution_count": 40,
   "metadata": {
    "colab": {
     "base_uri": "https://localhost:8080/"
    },
    "id": "PFJYAur28-HN",
    "outputId": "2781f9df-6c0f-48ef-83fb-6c2f68878f59"
   },
   "outputs": [
    {
     "name": "stdout",
     "output_type": "stream",
     "text": [
      "[*********************100%***********************]  1 of 1 completed\n"
     ]
    }
   ],
   "source": [
    "#stock Company for analytics\n",
    "stock = ['TATAMOTORS.NS']\n",
    "data_source = 'yahoo' \n",
    "\n",
    "# set up Start and End time for data grab\n",
    "end = datetime.now()\n",
    "start = datetime(end.year,end.month,end.day-10)\n",
    "\n",
    "# Set DataFrame as the Stock Ticker\n",
    "df = pdr.get_data_yahoo(stock,start,end)"
   ]
  },
  {
   "cell_type": "code",
   "execution_count": 41,
   "metadata": {
    "colab": {
     "base_uri": "https://localhost:8080/"
    },
    "id": "KHoAmicY9JVB",
    "outputId": "6eb67f2b-81c3-4e8e-f957-0b70c1db9b87"
   },
   "outputs": [
    {
     "data": {
      "text/plain": [
       "Date\n",
       "2022-07-18    450.899994\n",
       "2022-07-19    449.049988\n",
       "2022-07-20    453.450012\n",
       "2022-07-21    454.850006\n",
       "2022-07-22    454.899994\n",
       "2022-07-25    449.549988\n",
       "2022-07-26    441.149994\n",
       "2022-07-27    444.049988\n",
       "2022-07-28    442.450012\n",
       "Name: Close, dtype: float64"
      ]
     },
     "execution_count": 41,
     "metadata": {},
     "output_type": "execute_result"
    }
   ],
   "source": [
    "df['Close']"
   ]
  },
  {
   "cell_type": "code",
   "execution_count": 42,
   "metadata": {
    "colab": {
     "base_uri": "https://localhost:8080/",
     "height": 363
    },
    "id": "XS6zBGPo-vT0",
    "outputId": "968d88e9-3607-4ee9-aad7-5c5e66528752"
   },
   "outputs": [
    {
     "data": {
      "text/html": [
       "<div>\n",
       "<style scoped>\n",
       "    .dataframe tbody tr th:only-of-type {\n",
       "        vertical-align: middle;\n",
       "    }\n",
       "\n",
       "    .dataframe tbody tr th {\n",
       "        vertical-align: top;\n",
       "    }\n",
       "\n",
       "    .dataframe thead th {\n",
       "        text-align: right;\n",
       "    }\n",
       "</style>\n",
       "<table border=\"1\" class=\"dataframe\">\n",
       "  <thead>\n",
       "    <tr style=\"text-align: right;\">\n",
       "      <th></th>\n",
       "      <th>actual</th>\n",
       "      <th>forecast</th>\n",
       "    </tr>\n",
       "    <tr>\n",
       "      <th>Date</th>\n",
       "      <th></th>\n",
       "      <th></th>\n",
       "    </tr>\n",
       "  </thead>\n",
       "  <tbody>\n",
       "    <tr>\n",
       "      <th>2022-07-18</th>\n",
       "      <td>450.899994</td>\n",
       "      <td>440.324656</td>\n",
       "    </tr>\n",
       "    <tr>\n",
       "      <th>2022-07-19</th>\n",
       "      <td>449.049988</td>\n",
       "      <td>440.449335</td>\n",
       "    </tr>\n",
       "    <tr>\n",
       "      <th>2022-07-20</th>\n",
       "      <td>453.450012</td>\n",
       "      <td>440.574049</td>\n",
       "    </tr>\n",
       "    <tr>\n",
       "      <th>2022-07-21</th>\n",
       "      <td>454.850006</td>\n",
       "      <td>440.698799</td>\n",
       "    </tr>\n",
       "    <tr>\n",
       "      <th>2022-07-22</th>\n",
       "      <td>454.899994</td>\n",
       "      <td>440.823584</td>\n",
       "    </tr>\n",
       "    <tr>\n",
       "      <th>2022-07-25</th>\n",
       "      <td>449.549988</td>\n",
       "      <td>440.948404</td>\n",
       "    </tr>\n",
       "    <tr>\n",
       "      <th>2022-07-26</th>\n",
       "      <td>441.149994</td>\n",
       "      <td>441.073260</td>\n",
       "    </tr>\n",
       "    <tr>\n",
       "      <th>2022-07-27</th>\n",
       "      <td>444.049988</td>\n",
       "      <td>441.198151</td>\n",
       "    </tr>\n",
       "    <tr>\n",
       "      <th>2022-07-28</th>\n",
       "      <td>442.450012</td>\n",
       "      <td>441.323077</td>\n",
       "    </tr>\n",
       "  </tbody>\n",
       "</table>\n",
       "</div>"
      ],
      "text/plain": [
       "                actual    forecast\n",
       "Date                              \n",
       "2022-07-18  450.899994  440.324656\n",
       "2022-07-19  449.049988  440.449335\n",
       "2022-07-20  453.450012  440.574049\n",
       "2022-07-21  454.850006  440.698799\n",
       "2022-07-22  454.899994  440.823584\n",
       "2022-07-25  449.549988  440.948404\n",
       "2022-07-26  441.149994  441.073260\n",
       "2022-07-27  444.049988  441.198151\n",
       "2022-07-28  442.450012  441.323077"
      ]
     },
     "execution_count": 42,
     "metadata": {},
     "output_type": "execute_result"
    }
   ],
   "source": [
    "result = pd.DataFrame(df['Close'])\n",
    "result.columns = [\"actual\"]\n",
    "result[\"forecast\"] = np.exp(forecast)\n",
    "result"
   ]
  },
  {
   "cell_type": "code",
   "execution_count": 43,
   "metadata": {
    "colab": {
     "base_uri": "https://localhost:8080/"
    },
    "id": "oDiRE4euBCJu",
    "outputId": "8e6aaba4-c91e-40a2-ac31-7c80e0c45c75"
   },
   "outputs": [
    {
     "name": "stdout",
     "output_type": "stream",
     "text": [
      "Forecast RMSE: 9.623\n"
     ]
    }
   ],
   "source": [
    "error = mean_squared_error(result[\"actual\"] , result[\"forecast\"] )\n",
    "print('Forecast RMSE: %.3f' % np.sqrt(error))"
   ]
  }
 ],
 "metadata": {
  "colab": {
   "name": "TATA_Motors_Stock_market_Forecasting.V3.ipynb",
   "provenance": []
  },
  "kernelspec": {
   "display_name": "Python 3",
   "language": "python",
   "name": "python3"
  },
  "language_info": {
   "codemirror_mode": {
    "name": "ipython",
    "version": 3
   },
   "file_extension": ".py",
   "mimetype": "text/x-python",
   "name": "python",
   "nbconvert_exporter": "python",
   "pygments_lexer": "ipython3",
   "version": "3.8.8"
  }
 },
 "nbformat": 4,
 "nbformat_minor": 1
}
